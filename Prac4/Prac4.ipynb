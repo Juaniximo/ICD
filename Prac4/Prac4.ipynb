{
 "cells": [
  {
   "cell_type": "markdown",
   "id": "75ea06e6-47a4-4e9a-9578-11ef3107e2d3",
   "metadata": {},
   "source": [
    "Juan Miguel Armenta Cano"
   ]
  },
  {
   "cell_type": "code",
   "execution_count": 1,
   "id": "bb9682af-d3e5-4b26-9695-f7f5d51684e5",
   "metadata": {
    "tags": []
   },
   "outputs": [],
   "source": [
    "import pandas as pd\n",
    "import numpy as np\n",
    "import matplotlib.pyplot as plt\n",
    "import matplotlib.axes as ax\n",
    "import seaborn as sns\n",
    "from sklearn.linear_model import LinearRegression"
   ]
  },
  {
   "cell_type": "code",
   "execution_count": 2,
   "id": "3397451f-428d-4c65-9232-c20af670c759",
   "metadata": {
    "tags": []
   },
   "outputs": [
    {
     "data": {
      "text/html": [
       "<div>\n",
       "<style scoped>\n",
       "    .dataframe tbody tr th:only-of-type {\n",
       "        vertical-align: middle;\n",
       "    }\n",
       "\n",
       "    .dataframe tbody tr th {\n",
       "        vertical-align: top;\n",
       "    }\n",
       "\n",
       "    .dataframe thead th {\n",
       "        text-align: right;\n",
       "    }\n",
       "</style>\n",
       "<table border=\"1\" class=\"dataframe\">\n",
       "  <thead>\n",
       "    <tr style=\"text-align: right;\">\n",
       "      <th></th>\n",
       "      <th>case</th>\n",
       "      <th>site</th>\n",
       "      <th>Pop</th>\n",
       "      <th>sex</th>\n",
       "      <th>age</th>\n",
       "      <th>hdlngth</th>\n",
       "      <th>skullw</th>\n",
       "      <th>totlngth</th>\n",
       "      <th>taill</th>\n",
       "      <th>footlgth</th>\n",
       "      <th>earconch</th>\n",
       "      <th>eye</th>\n",
       "      <th>chest</th>\n",
       "      <th>belly</th>\n",
       "    </tr>\n",
       "  </thead>\n",
       "  <tbody>\n",
       "    <tr>\n",
       "      <th>0</th>\n",
       "      <td>1</td>\n",
       "      <td>1</td>\n",
       "      <td>Vic</td>\n",
       "      <td>1</td>\n",
       "      <td>8.0</td>\n",
       "      <td>94.1</td>\n",
       "      <td>60.4</td>\n",
       "      <td>89.0</td>\n",
       "      <td>36.0</td>\n",
       "      <td>74.5</td>\n",
       "      <td>54.5</td>\n",
       "      <td>15.2</td>\n",
       "      <td>28.0</td>\n",
       "      <td>36.0</td>\n",
       "    </tr>\n",
       "    <tr>\n",
       "      <th>1</th>\n",
       "      <td>2</td>\n",
       "      <td>1</td>\n",
       "      <td>Vic</td>\n",
       "      <td>0</td>\n",
       "      <td>6.0</td>\n",
       "      <td>92.5</td>\n",
       "      <td>57.6</td>\n",
       "      <td>91.5</td>\n",
       "      <td>36.5</td>\n",
       "      <td>72.5</td>\n",
       "      <td>51.2</td>\n",
       "      <td>16.0</td>\n",
       "      <td>28.5</td>\n",
       "      <td>33.0</td>\n",
       "    </tr>\n",
       "    <tr>\n",
       "      <th>2</th>\n",
       "      <td>3</td>\n",
       "      <td>1</td>\n",
       "      <td>Vic</td>\n",
       "      <td>0</td>\n",
       "      <td>6.0</td>\n",
       "      <td>94.0</td>\n",
       "      <td>60.0</td>\n",
       "      <td>95.5</td>\n",
       "      <td>39.0</td>\n",
       "      <td>75.4</td>\n",
       "      <td>51.9</td>\n",
       "      <td>15.5</td>\n",
       "      <td>30.0</td>\n",
       "      <td>34.0</td>\n",
       "    </tr>\n",
       "    <tr>\n",
       "      <th>3</th>\n",
       "      <td>4</td>\n",
       "      <td>1</td>\n",
       "      <td>Vic</td>\n",
       "      <td>0</td>\n",
       "      <td>6.0</td>\n",
       "      <td>93.2</td>\n",
       "      <td>57.1</td>\n",
       "      <td>92.0</td>\n",
       "      <td>38.0</td>\n",
       "      <td>76.1</td>\n",
       "      <td>52.2</td>\n",
       "      <td>15.2</td>\n",
       "      <td>28.0</td>\n",
       "      <td>34.0</td>\n",
       "    </tr>\n",
       "    <tr>\n",
       "      <th>4</th>\n",
       "      <td>5</td>\n",
       "      <td>1</td>\n",
       "      <td>Vic</td>\n",
       "      <td>0</td>\n",
       "      <td>2.0</td>\n",
       "      <td>91.5</td>\n",
       "      <td>56.3</td>\n",
       "      <td>85.5</td>\n",
       "      <td>36.0</td>\n",
       "      <td>71.0</td>\n",
       "      <td>53.2</td>\n",
       "      <td>15.1</td>\n",
       "      <td>28.5</td>\n",
       "      <td>33.0</td>\n",
       "    </tr>\n",
       "  </tbody>\n",
       "</table>\n",
       "</div>"
      ],
      "text/plain": [
       "   case  site  Pop  sex  age  hdlngth  skullw  totlngth  taill  footlgth  \\\n",
       "0     1     1  Vic    1  8.0     94.1    60.4      89.0   36.0      74.5   \n",
       "1     2     1  Vic    0  6.0     92.5    57.6      91.5   36.5      72.5   \n",
       "2     3     1  Vic    0  6.0     94.0    60.0      95.5   39.0      75.4   \n",
       "3     4     1  Vic    0  6.0     93.2    57.1      92.0   38.0      76.1   \n",
       "4     5     1  Vic    0  2.0     91.5    56.3      85.5   36.0      71.0   \n",
       "\n",
       "   earconch   eye  chest  belly  \n",
       "0      54.5  15.2   28.0   36.0  \n",
       "1      51.2  16.0   28.5   33.0  \n",
       "2      51.9  15.5   30.0   34.0  \n",
       "3      52.2  15.2   28.0   34.0  \n",
       "4      53.2  15.1   28.5   33.0  "
      ]
     },
     "execution_count": 2,
     "metadata": {},
     "output_type": "execute_result"
    }
   ],
   "source": [
    "#Cargamos el DataSet con los datos de las zarigüeyas \n",
    "data = pd.read_csv('possum.csv')\n",
    "#Observamos los encabezados del DataFrame\n",
    "data.head()"
   ]
  },
  {
   "cell_type": "code",
   "execution_count": 3,
   "id": "9199717f-c4a4-413b-9d5a-1248fc810077",
   "metadata": {
    "tags": []
   },
   "outputs": [
    {
     "name": "stdout",
     "output_type": "stream",
     "text": [
      "<class 'pandas.core.frame.DataFrame'>\n",
      "Int64Index: 101 entries, 0 to 103\n",
      "Data columns (total 14 columns):\n",
      " #   Column    Non-Null Count  Dtype  \n",
      "---  ------    --------------  -----  \n",
      " 0   case      101 non-null    int64  \n",
      " 1   site      101 non-null    int64  \n",
      " 2   Pop       101 non-null    object \n",
      " 3   sex       101 non-null    int64  \n",
      " 4   age       101 non-null    float64\n",
      " 5   hdlngth   101 non-null    float64\n",
      " 6   skullw    101 non-null    float64\n",
      " 7   totlngth  101 non-null    float64\n",
      " 8   taill     101 non-null    float64\n",
      " 9   footlgth  101 non-null    float64\n",
      " 10  earconch  101 non-null    float64\n",
      " 11  eye       101 non-null    float64\n",
      " 12  chest     101 non-null    float64\n",
      " 13  belly     101 non-null    float64\n",
      "dtypes: float64(10), int64(3), object(1)\n",
      "memory usage: 11.8+ KB\n"
     ]
    }
   ],
   "source": [
    "data = data.dropna()\n",
    "#Verificamos nuevamente la información del DataFrame\n",
    "data.info()"
   ]
  },
  {
   "cell_type": "code",
   "execution_count": 4,
   "id": "207ccf60-ca17-436c-b280-a6ef304d6085",
   "metadata": {
    "tags": []
   },
   "outputs": [],
   "source": [
    "#Agrupamos el conjunto de entrenamiento y variable de clase\n",
    "X_train = data[['case', 'site', 'sex','age','hdlngth','skullw','totlngth','taill', 'footlgth' , 'earconch' , 'eye' , 'chest' , 'belly']]\n",
    "y_train = data[['sex']]"
   ]
  },
  {
   "cell_type": "code",
   "execution_count": 5,
   "id": "f0aedea9-ac06-471a-a1b1-78ba5d986b01",
   "metadata": {
    "tags": []
   },
   "outputs": [],
   "source": [
    "from sklearn.datasets import make_circles, make_classification, make_moons\n",
    "from sklearn.discriminant_analysis import QuadraticDiscriminantAnalysis\n",
    "from sklearn.ensemble import AdaBoostClassifier, RandomForestClassifier\n",
    "from sklearn.gaussian_process import GaussianProcessClassifier\n",
    "from sklearn.gaussian_process.kernels import RBF\n",
    "from sklearn.inspection import DecisionBoundaryDisplay\n",
    "from sklearn.model_selection import train_test_split\n",
    "from sklearn.naive_bayes import GaussianNB\n",
    "from sklearn.neighbors import KNeighborsClassifier\n",
    "from sklearn.neural_network import MLPClassifier\n",
    "from sklearn.pipeline import make_pipeline\n",
    "from sklearn.preprocessing import StandardScaler\n",
    "from sklearn.svm import SVC\n",
    "from sklearn.tree import DecisionTreeClassifier\n",
    "from sklearn.model_selection import cross_val_predict\n",
    "from sklearn.ensemble import GradientBoostingClassifier\n",
    "from sklearn.ensemble import BaggingClassifier\n",
    "from mlxtend.classifier import StackingCVClassifier\n",
    "from sklearn.ensemble import VotingClassifier\n",
    "from sklearn.metrics import (confusion_matrix, accuracy_score)\n",
    "import warnings\n",
    "from sklearn.feature_selection import mutual_info_classif\n",
    "from sklearn.decomposition import PCA\n",
    "warnings.simplefilter(\"ignore\")"
   ]
  },
  {
   "cell_type": "markdown",
   "id": "4c17c7da-5bc2-4cb1-a3ad-9d4bf827f097",
   "metadata": {},
   "source": [
    "Primero objetivo\n",
    "\n",
    "se usaran 10 clasificadores los cuales son:\n",
    "1. Arboles de desicion \n",
    "2. Aprendizaje bayesioano\n",
    "3. Máquina de soporte vectorial\n",
    "4. SVC\n",
    "5. GaussianNB\n",
    "6. RandomForest\n",
    "7. AdaBoost\n",
    "8. RBF\n",
    "9. GaussianProcess\n",
    "10. QDA\n",
    "\n",
    "en todos estos clasificadores se usara validacion cruzada con K=10 usando cross_val_score\n"
   ]
  },
  {
   "cell_type": "code",
   "execution_count": 6,
   "id": "a54ee01f-9cee-4dcf-8a77-f4e1ba2a7cc3",
   "metadata": {
    "tags": []
   },
   "outputs": [
    {
     "name": "stdout",
     "output_type": "stream",
     "text": [
      "Confusion Matrix : \n",
      " [[42  0]\n",
      " [ 0 59]]\n",
      "Test accuracy =  1.0\n",
      "sensibilidad= 1.0\n",
      "especificidad= 1.0\n"
     ]
    }
   ],
   "source": [
    "clfd1 = DecisionTreeClassifier(max_depth=5, random_state=42)\n",
    "prediccion = cross_val_predict(clfd1, X_train, y_train, cv=10)\n",
    "# confusion matrix\n",
    "cm = confusion_matrix(y_train, prediccion) \n",
    "print (\"Confusion Matrix : \\n\", cm) \n",
    "  \n",
    "# accuracy score of the model\n",
    "print('Test accuracy = ', accuracy_score(y_train, prediccion))\n",
    "TP = cm[0][0]\n",
    "FP = cm[0][1]\n",
    "FN = cm[1][0]\n",
    "TN = cm[1][1]\n",
    "sensibilidad = TP / (TP + FN)\n",
    "\n",
    "especificidad = TN / (TN + FP)\n",
    "print('sensibilidad=' , sensibilidad)\n",
    "print( 'especificidad=', especificidad)"
   ]
  },
  {
   "cell_type": "code",
   "execution_count": 7,
   "id": "7ef46c9c-2dc3-4aa9-8e7e-6f297c61c035",
   "metadata": {
    "tags": []
   },
   "outputs": [
    {
     "name": "stdout",
     "output_type": "stream",
     "text": [
      "Confusion Matrix : \n",
      " [[42  0]\n",
      " [ 0 59]]\n",
      "Test accuracy =  1.0\n",
      "sensibilidad= 1.0\n",
      "especificidad= 1.0\n"
     ]
    }
   ],
   "source": [
    "clfd2 = GaussianNB()\n",
    "prediccion = cross_val_predict(clfd2, X_train, y_train, cv=10)\n",
    "# confusion matrix\n",
    "cm = confusion_matrix(y_train, prediccion) \n",
    "print (\"Confusion Matrix : \\n\", cm) \n",
    "  \n",
    "# accuracy score of the model\n",
    "print('Test accuracy = ', accuracy_score(y_train, prediccion))\n",
    "TP = cm[0][0]\n",
    "FP = cm[0][1]\n",
    "FN = cm[1][0]\n",
    "TN = cm[1][1]\n",
    "sensibilidad = TP / (TP + FN)\n",
    "\n",
    "especificidad = TN / (TN + FP)\n",
    "print('sensibilidad=' , sensibilidad)\n",
    "print( 'especificidad=', especificidad)"
   ]
  },
  {
   "cell_type": "code",
   "execution_count": 8,
   "id": "7a0af316-b0bc-4b40-a161-7056d6cdebbb",
   "metadata": {
    "tags": []
   },
   "outputs": [
    {
     "name": "stdout",
     "output_type": "stream",
     "text": [
      "Confusion Matrix : \n",
      " [[11 31]\n",
      " [36 23]]\n",
      "Test accuracy =  0.33663366336633666\n",
      "sensibilidad= 0.23404255319148937\n",
      "especificidad= 0.42592592592592593\n"
     ]
    }
   ],
   "source": [
    "clfd3 = KNeighborsClassifier(5)\n",
    "prediccion = cross_val_predict(clfd3, X_train, y_train, cv=10)\n",
    "# confusion matrix\n",
    "cm = confusion_matrix(y_train, prediccion) \n",
    "print (\"Confusion Matrix : \\n\", cm) \n",
    "  \n",
    "# accuracy score of the model\n",
    "print('Test accuracy = ', accuracy_score(y_train, prediccion))\n",
    "TP = cm[0][0]\n",
    "FP = cm[0][1]\n",
    "FN = cm[1][0]\n",
    "TN = cm[1][1]\n",
    "sensibilidad = TP / (TP + FN)\n",
    "\n",
    "especificidad = TN / (TN + FP)\n",
    "print('sensibilidad=' , sensibilidad)\n",
    "print( 'especificidad=', especificidad)"
   ]
  },
  {
   "cell_type": "code",
   "execution_count": 9,
   "id": "2caf79cc-94f8-4282-b232-39de6da72a19",
   "metadata": {
    "tags": []
   },
   "outputs": [
    {
     "name": "stdout",
     "output_type": "stream",
     "text": [
      "Confusion Matrix : \n",
      " [[11 31]\n",
      " [36 23]]\n",
      "Test accuracy =  0.33663366336633666\n",
      "sensibilidad= 0.23404255319148937\n",
      "especificidad= 0.42592592592592593\n"
     ]
    }
   ],
   "source": [
    "clfd4 = SVC (kernel=\"linear\", C=0.025, random_state=42)\n",
    "prediccion = cross_val_predict(clfd3, X_train, y_train, cv=10)\n",
    "# confusion matrix\n",
    "cm = confusion_matrix(y_train, prediccion) \n",
    "print (\"Confusion Matrix : \\n\", cm) \n",
    "  \n",
    "# accuracy score of the model\n",
    "print('Test accuracy = ', accuracy_score(y_train, prediccion))\n",
    "TP = cm[0][0]\n",
    "FP = cm[0][1]\n",
    "FN = cm[1][0]\n",
    "TN = cm[1][1]\n",
    "sensibilidad = TP / (TP + FN)\n",
    "\n",
    "especificidad = TN / (TN + FP)\n",
    "print('sensibilidad=' , sensibilidad)\n",
    "print( 'especificidad=', especificidad)"
   ]
  },
  {
   "cell_type": "code",
   "execution_count": 10,
   "id": "dd1c0fe7-cfbd-4906-9d3e-5a46f9f9aa4e",
   "metadata": {
    "tags": []
   },
   "outputs": [
    {
     "name": "stdout",
     "output_type": "stream",
     "text": [
      "Confusion Matrix : \n",
      " [[28 14]\n",
      " [22 37]]\n",
      "Test accuracy =  0.6435643564356436\n",
      "sensibilidad= 0.56\n",
      "especificidad= 0.7254901960784313\n"
     ]
    }
   ],
   "source": [
    "clfd5 = GaussianProcessClassifier (1.0 * RBF(1.0), random_state=42)\n",
    "prediccion = cross_val_predict(clfd5, X_train, y_train, cv=10)\n",
    "# confusion matrix\n",
    "cm = confusion_matrix(y_train, prediccion) \n",
    "print (\"Confusion Matrix : \\n\", cm) \n",
    "  \n",
    "# accuracy score of the model\n",
    "print('Test accuracy = ', accuracy_score(y_train, prediccion))\n",
    "TP = cm[0][0]\n",
    "FP = cm[0][1]\n",
    "FN = cm[1][0]\n",
    "TN = cm[1][1]\n",
    "sensibilidad = TP / (TP + FN)\n",
    "\n",
    "especificidad = TN / (TN + FP)\n",
    "print('sensibilidad=' , sensibilidad)\n",
    "print( 'especificidad=', especificidad)"
   ]
  },
  {
   "cell_type": "code",
   "execution_count": 11,
   "id": "96d22397-d64c-49a0-9c7d-01756264c3f9",
   "metadata": {
    "tags": []
   },
   "outputs": [
    {
     "name": "stdout",
     "output_type": "stream",
     "text": [
      "Confusion Matrix : \n",
      " [[31 11]\n",
      " [ 3 56]]\n",
      "Test accuracy =  0.8613861386138614\n",
      "sensibilidad= 0.9117647058823529\n",
      "especificidad= 0.835820895522388\n"
     ]
    }
   ],
   "source": [
    "clfd6 =  RandomForestClassifier(max_depth=5, n_estimators=10, max_features=1, random_state=42)\n",
    "prediccion = cross_val_predict(clfd6, X_train, y_train, cv=10)\n",
    "# confusion matrix\n",
    "cm = confusion_matrix(y_train, prediccion) \n",
    "print (\"Confusion Matrix : \\n\", cm) \n",
    "  \n",
    "# accuracy score of the model\n",
    "print('Test accuracy = ', accuracy_score(y_train, prediccion))\n",
    "TP = cm[0][0]\n",
    "FP = cm[0][1]\n",
    "FN = cm[1][0]\n",
    "TN = cm[1][1]\n",
    "sensibilidad = TP / (TP + FN)\n",
    "\n",
    "especificidad = TN / (TN + FP)\n",
    "print('sensibilidad=' , sensibilidad)\n",
    "print( 'especificidad=', especificidad)"
   ]
  },
  {
   "cell_type": "code",
   "execution_count": 12,
   "id": "36420387-3b7b-466a-9978-90aec4b46854",
   "metadata": {
    "tags": []
   },
   "outputs": [
    {
     "name": "stdout",
     "output_type": "stream",
     "text": [
      "Confusion Matrix : \n",
      " [[42  0]\n",
      " [ 0 59]]\n",
      "Test accuracy =  1.0\n",
      "sensibilidad= 1.0\n",
      "especificidad= 1.0\n"
     ]
    }
   ],
   "source": [
    "clfd7 =  AdaBoostClassifier(random_state=42)\n",
    "prediccion = cross_val_predict(clfd7, X_train, y_train, cv=10)\n",
    "# confusion matrix\n",
    "cm = confusion_matrix(y_train, prediccion) \n",
    "print (\"Confusion Matrix : \\n\", cm) \n",
    "  \n",
    "# accuracy score of the model\n",
    "print('Test accuracy = ', accuracy_score(y_train, prediccion))\n",
    "TP = cm[0][0]\n",
    "FP = cm[0][1]\n",
    "FN = cm[1][0]\n",
    "TN = cm[1][1]\n",
    "sensibilidad = TP / (TP + FN)\n",
    "\n",
    "especificidad = TN / (TN + FP)\n",
    "print('sensibilidad=' , sensibilidad)\n",
    "print( 'especificidad=', especificidad)"
   ]
  },
  {
   "cell_type": "code",
   "execution_count": 13,
   "id": "950bfa30-c432-462a-808b-81bb7985097c",
   "metadata": {
    "tags": []
   },
   "outputs": [
    {
     "name": "stdout",
     "output_type": "stream",
     "text": [
      "Confusion Matrix : \n",
      " [[ 0 42]\n",
      " [ 0 59]]\n",
      "Test accuracy =  0.5841584158415841\n",
      "sensibilidad= nan\n",
      "especificidad= 0.5841584158415841\n"
     ]
    }
   ],
   "source": [
    "clfd8 =  SVC(gamma=2, C=1, random_state=42)\n",
    "prediccion = cross_val_predict(clfd8, X_train, y_train, cv=10)\n",
    "# confusion matrix\n",
    "cm = confusion_matrix(y_train, prediccion) \n",
    "print (\"Confusion Matrix : \\n\", cm) \n",
    "  \n",
    "# accuracy score of the model\n",
    "print('Test accuracy = ', accuracy_score(y_train, prediccion))\n",
    "TP = cm[0][0]\n",
    "FP = cm[0][1]\n",
    "FN = cm[1][0]\n",
    "TN = cm[1][1]\n",
    "sensibilidad = TP / (TP + FN)\n",
    "\n",
    "especificidad = TN / (TN + FP)\n",
    "print('sensibilidad=' , sensibilidad)\n",
    "print( 'especificidad=', especificidad)"
   ]
  },
  {
   "cell_type": "code",
   "execution_count": 14,
   "id": "e6f31038-e3e1-40f4-b0bf-313c8a69922b",
   "metadata": {
    "tags": []
   },
   "outputs": [
    {
     "name": "stdout",
     "output_type": "stream",
     "text": [
      "Confusion Matrix : \n",
      " [[28 14]\n",
      " [22 37]]\n",
      "Test accuracy =  0.6435643564356436\n",
      "sensibilidad= 0.56\n",
      "especificidad= 0.7254901960784313\n"
     ]
    }
   ],
   "source": [
    "clfd9 =  GaussianProcessClassifier(1.0 * RBF(1.0), random_state=42)\n",
    "prediccion = cross_val_predict(clfd9, X_train, y_train, cv=10)\n",
    "# confusion matrix\n",
    "cm = confusion_matrix(y_train, prediccion) \n",
    "print (\"Confusion Matrix : \\n\", cm) \n",
    "  \n",
    "# accuracy score of the model\n",
    "print('Test accuracy = ', accuracy_score(y_train, prediccion))\n",
    "TP = cm[0][0]\n",
    "FP = cm[0][1]\n",
    "FN = cm[1][0]\n",
    "TN = cm[1][1]\n",
    "sensibilidad = TP / (TP + FN)\n",
    "\n",
    "especificidad = TN / (TN + FP)\n",
    "print('sensibilidad=' , sensibilidad)\n",
    "print( 'especificidad=', especificidad)"
   ]
  },
  {
   "cell_type": "code",
   "execution_count": 15,
   "id": "c75d3255-57f5-41ed-ae31-f81ffd1acb22",
   "metadata": {
    "tags": []
   },
   "outputs": [
    {
     "name": "stdout",
     "output_type": "stream",
     "text": [
      "Confusion Matrix : \n",
      " [[42  0]\n",
      " [ 0 59]]\n",
      "Test accuracy =  1.0\n",
      "sensibilidad= 1.0\n",
      "especificidad= 1.0\n"
     ]
    }
   ],
   "source": [
    "clfd10 =  QuadraticDiscriminantAnalysis()\n",
    "prediccion = cross_val_predict(clfd10, X_train, y_train, cv=10)\n",
    "# confusion matrix\n",
    "cm = confusion_matrix(y_train, prediccion) \n",
    "print (\"Confusion Matrix : \\n\", cm) \n",
    "  \n",
    "# accuracy score of the model\n",
    "print('Test accuracy = ', accuracy_score(y_train, prediccion))\n",
    "TP = cm[0][0]\n",
    "FP = cm[0][1]\n",
    "FN = cm[1][0]\n",
    "TN = cm[1][1]\n",
    "sensibilidad = TP / (TP + FN)\n",
    "\n",
    "especificidad = TN / (TN + FP)\n",
    "print('sensibilidad=' , sensibilidad)\n",
    "print( 'especificidad=', especificidad)"
   ]
  },
  {
   "cell_type": "markdown",
   "id": "1a913f7a-de79-4a2e-87b6-3c3e46dfd19d",
   "metadata": {},
   "source": [
    "segundo Objetivo"
   ]
  },
  {
   "cell_type": "code",
   "execution_count": 16,
   "id": "6e08d2fb-90ae-4217-9ed7-f0136680dba5",
   "metadata": {
    "tags": []
   },
   "outputs": [
    {
     "data": {
      "image/png": "[encoded data removed]",
      "text/plain": [
       "<Figure size 640x480 with 1 Axes>"
      ]
     },
     "metadata": {},
     "output_type": "display_data"
    }
   ],
   "source": [
    "X_nueva = mutual_info_classif(X_train, y_train)\n",
    "feat_imp = pd.Series(X_nueva, data.columns[0:len(data.columns)-1])\n",
    "feat_imp.plot(title=\"Características con mayor importancia\", kind='barh')\n",
    "plt.show()"
   ]
  },
  {
   "cell_type": "code",
   "execution_count": 17,
   "id": "4c0c1bed-e167-4777-b342-dec8c1625748",
   "metadata": {
    "tags": []
   },
   "outputs": [
    {
     "name": "stdout",
     "output_type": "stream",
     "text": [
      "Confusion Matrix : \n",
      " [[11 31]\n",
      " [33 26]]\n",
      "Test accuracy =  0.36633663366336633\n",
      "sensibilidad= 0.25\n",
      "especificidad= 0.45614035087719296\n"
     ]
    }
   ],
   "source": [
    "X_train = data[['case','hdlngth', 'taill' , 'chest', 'totlngth', 'age' ]]\n",
    "clfd =  RandomForestClassifier(max_depth=5, n_estimators=10, max_features=1, random_state=42)\n",
    "X_PCA = PCA(n_components=2).fit_transform(X_train)\n",
    "prediccion = cross_val_predict(clfd, X_PCA, y_train, cv=10)\n",
    "# confusion matrix\n",
    "cm = confusion_matrix(y_train, prediccion) \n",
    "print (\"Confusion Matrix : \\n\", cm) \n",
    "  \n",
    "# accuracy score of the model\n",
    "print('Test accuracy = ', accuracy_score(y_train, prediccion))\n",
    "TP = cm[0][0]\n",
    "FP = cm[0][1]\n",
    "FN = cm[1][0]\n",
    "TN = cm[1][1]\n",
    "sensibilidad = TP / (TP + FN)\n",
    "\n",
    "especificidad = TN / (TN + FP)\n",
    "print('sensibilidad=' , sensibilidad)\n",
    "print( 'especificidad=', especificidad)"
   ]
  },
  {
   "cell_type": "code",
   "execution_count": 18,
   "id": "f16e7eac-c6fd-47aa-9117-8833870fe63f",
   "metadata": {},
   "outputs": [
    {
     "name": "stdout",
     "output_type": "stream",
     "text": [
      "Confusion Matrix : \n",
      " [[14 28]\n",
      " [34 25]]\n",
      "Test accuracy =  0.38613861386138615\n",
      "sensibilidad= 0.2916666666666667\n",
      "especificidad= 0.4716981132075472\n"
     ]
    }
   ],
   "source": [
    "X_train = data[['case','hdlngth', 'taill' , 'chest' ]]\n",
    "clfd =  RandomForestClassifier(max_depth=5, n_estimators=10, max_features=1, random_state=42)\n",
    "X_PCA = PCA(n_components=2).fit_transform(X_train)\n",
    "prediccion = cross_val_predict(clfd, X_PCA, y_train, cv=10)\n",
    "# confusion matrix\n",
    "cm = confusion_matrix(y_train, prediccion) \n",
    "print (\"Confusion Matrix : \\n\", cm) \n",
    "  \n",
    "# accuracy score of the model\n",
    "print('Test accuracy = ', accuracy_score(y_train, prediccion))\n",
    "TP = cm[0][0]\n",
    "FP = cm[0][1]\n",
    "FN = cm[1][0]\n",
    "TN = cm[1][1]\n",
    "sensibilidad = TP / (TP + FN)\n",
    "\n",
    "especificidad = TN / (TN + FP)\n",
    "print('sensibilidad=' , sensibilidad)\n",
    "print( 'especificidad=', especificidad)"
   ]
  },
  {
   "cell_type": "code",
   "execution_count": 19,
   "id": "95ee7492-caad-41e0-9bfe-b52a9d71dac0",
   "metadata": {
    "tags": []
   },
   "outputs": [
    {
     "name": "stdout",
     "output_type": "stream",
     "text": [
      "Confusion Matrix : \n",
      " [[16 26]\n",
      " [33 26]]\n",
      "Test accuracy =  0.4158415841584158\n",
      "sensibilidad= 0.32653061224489793\n",
      "especificidad= 0.5\n"
     ]
    }
   ],
   "source": [
    "X_train = data[['case','hdlngth']]\n",
    "clfd =  RandomForestClassifier(max_depth=5, n_estimators=10, max_features=1, random_state=42)\n",
    "X_PCA = PCA(n_components=2).fit_transform(X_train)\n",
    "prediccion = cross_val_predict(clfd, X_PCA, y_train, cv=10)\n",
    "# confusion matrix\n",
    "cm = confusion_matrix(y_train, prediccion) \n",
    "print (\"Confusion Matrix : \\n\", cm) \n",
    "  \n",
    "# accuracy score of the model\n",
    "print('Test accuracy = ', accuracy_score(y_train, prediccion))\n",
    "TP = cm[0][0]\n",
    "FP = cm[0][1]\n",
    "FN = cm[1][0]\n",
    "TN = cm[1][1]\n",
    "sensibilidad = TP / (TP + FN)\n",
    "\n",
    "especificidad = TN / (TN + FP)\n",
    "print('sensibilidad=' , sensibilidad)\n",
    "print( 'especificidad=', especificidad)"
   ]
  },
  {
   "cell_type": "markdown",
   "id": "add947c4-1edf-4d51-88e9-17f19fbe487a",
   "metadata": {},
   "source": [
    "Conclusiones:\n",
    "\n",
    "\n",
    "Primero Objetivo.- notamos que cuando probamos los 10 clasificadores 4 de los 10 nos diero el resultado sobre \"accuracy, sensibilidad, especificidad\" con valores de 1\n",
    "los cuales son:\n",
    "1. DecisionTreeClassifier\n",
    "2. GaussianNB\n",
    "3. AdaBoostClassifier\n",
    "4. QuadraticDiscriminantAnalysis\n",
    "\n",
    "De esto podemos observar que al 5 clasificador fue RandomForestClassifier con valores:\n",
    "1. Test accuracy =  0.86\n",
    "2. sensibilidad= 0.91\n",
    "3. especificidad= 0.83\n",
    "\n",
    "Con RandomForest se probo el segundo objetivo en el cual se observo que aplicar reduccion de dimensionalidad con PCA nos afecta los resultados drasticamente por lo que en este caso no es factible hacer procesamiento de datos y es mejor trabajar con los datos originales.\n",
    "\n",
    "\n"
   ]
  }
 ],
 "metadata": {
  "kernelspec": {
   "display_name": "Python 3 (ipykernel)",
   "language": "python",
   "name": "python3"
  },
  "language_info": {
   "codemirror_mode": {
    "name": "ipython",
    "version": 3
   },
   "file_extension": ".py",
   "mimetype": "text/x-python",
   "name": "python",
   "nbconvert_exporter": "python",
   "pygments_lexer": "ipython3",
   "version": "3.11.4"
  }
 },
 "nbformat": 4,
 "nbformat_minor": 5
}
