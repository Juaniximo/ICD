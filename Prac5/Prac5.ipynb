{
 "cells": [
  {
   "cell_type": "code",
   "execution_count": null,
   "id": "2d815685-4370-4e57-b452-42ecbd149754",
   "metadata": {},
   "outputs": [],
   "source": []
  },
  {
   "cell_type": "markdown",
   "id": "70d868a6-d98b-41b4-b867-bd5df20c4533",
   "metadata": {},
   "source": [
    "Juan Miguel Armenta Cano"
   ]
  },
  {
   "cell_type": "code",
   "execution_count": 43,
   "id": "8949e2b8-aa77-45a3-a68d-7b0d04fb6e46",
   "metadata": {
    "tags": []
   },
   "outputs": [],
   "source": [
    "import pandas as pd\n",
    "import numpy as np\n",
    "import matplotlib.pyplot as plt\n",
    "import matplotlib.axes as ax\n",
    "import seaborn as sns\n",
    "from sklearn.linear_model import LinearRegression\n",
    "from sklearn.model_selection import cross_val_score\n",
    "from sklearn.ensemble import GradientBoostingClassifier\n",
    "from sklearn.ensemble import BaggingClassifier\n",
    "from mlxtend.classifier import StackingCVClassifier\n",
    "from sklearn.ensemble import VotingClassifier\n",
    "from sklearn import preprocessing\n",
    "from sklearn.model_selection import StratifiedShuffleSplit\n",
    "from sklearn.metrics import f1_score\n",
    "from numpy import mean\n",
    "from sklearn.ensemble import GradientBoostingClassifier\n",
    "from sklearn.ensemble import BaggingClassifier\n",
    "from sklearn.linear_model import LogisticRegression\n",
    "from sklearn.naive_bayes import GaussianNB\n",
    "from sklearn.ensemble import RandomForestClassifier"
   ]
  },
  {
   "cell_type": "code",
   "execution_count": 2,
   "id": "c9b56aaf-b51f-4e73-8be3-49161dcb302a",
   "metadata": {
    "tags": []
   },
   "outputs": [
    {
     "data": {
      "text/html": [
       "<div>\n",
       "<style scoped>\n",
       "    .dataframe tbody tr th:only-of-type {\n",
       "        vertical-align: middle;\n",
       "    }\n",
       "\n",
       "    .dataframe tbody tr th {\n",
       "        vertical-align: top;\n",
       "    }\n",
       "\n",
       "    .dataframe thead th {\n",
       "        text-align: right;\n",
       "    }\n",
       "</style>\n",
       "<table border=\"1\" class=\"dataframe\">\n",
       "  <thead>\n",
       "    <tr style=\"text-align: right;\">\n",
       "      <th></th>\n",
       "      <th>case</th>\n",
       "      <th>site</th>\n",
       "      <th>Pop</th>\n",
       "      <th>sex</th>\n",
       "      <th>age</th>\n",
       "      <th>hdlngth</th>\n",
       "      <th>skullw</th>\n",
       "      <th>totlngth</th>\n",
       "      <th>taill</th>\n",
       "      <th>footlgth</th>\n",
       "      <th>earconch</th>\n",
       "      <th>eye</th>\n",
       "      <th>chest</th>\n",
       "      <th>belly</th>\n",
       "    </tr>\n",
       "  </thead>\n",
       "  <tbody>\n",
       "    <tr>\n",
       "      <th>0</th>\n",
       "      <td>1</td>\n",
       "      <td>1</td>\n",
       "      <td>Vic</td>\n",
       "      <td>1</td>\n",
       "      <td>8.0</td>\n",
       "      <td>94.1</td>\n",
       "      <td>60.4</td>\n",
       "      <td>89.0</td>\n",
       "      <td>36.0</td>\n",
       "      <td>74.5</td>\n",
       "      <td>54.5</td>\n",
       "      <td>15.2</td>\n",
       "      <td>28.0</td>\n",
       "      <td>36.0</td>\n",
       "    </tr>\n",
       "    <tr>\n",
       "      <th>1</th>\n",
       "      <td>2</td>\n",
       "      <td>1</td>\n",
       "      <td>Vic</td>\n",
       "      <td>0</td>\n",
       "      <td>6.0</td>\n",
       "      <td>92.5</td>\n",
       "      <td>57.6</td>\n",
       "      <td>91.5</td>\n",
       "      <td>36.5</td>\n",
       "      <td>72.5</td>\n",
       "      <td>51.2</td>\n",
       "      <td>16.0</td>\n",
       "      <td>28.5</td>\n",
       "      <td>33.0</td>\n",
       "    </tr>\n",
       "    <tr>\n",
       "      <th>2</th>\n",
       "      <td>3</td>\n",
       "      <td>1</td>\n",
       "      <td>Vic</td>\n",
       "      <td>0</td>\n",
       "      <td>6.0</td>\n",
       "      <td>94.0</td>\n",
       "      <td>60.0</td>\n",
       "      <td>95.5</td>\n",
       "      <td>39.0</td>\n",
       "      <td>75.4</td>\n",
       "      <td>51.9</td>\n",
       "      <td>15.5</td>\n",
       "      <td>30.0</td>\n",
       "      <td>34.0</td>\n",
       "    </tr>\n",
       "    <tr>\n",
       "      <th>3</th>\n",
       "      <td>4</td>\n",
       "      <td>1</td>\n",
       "      <td>Vic</td>\n",
       "      <td>0</td>\n",
       "      <td>6.0</td>\n",
       "      <td>93.2</td>\n",
       "      <td>57.1</td>\n",
       "      <td>92.0</td>\n",
       "      <td>38.0</td>\n",
       "      <td>76.1</td>\n",
       "      <td>52.2</td>\n",
       "      <td>15.2</td>\n",
       "      <td>28.0</td>\n",
       "      <td>34.0</td>\n",
       "    </tr>\n",
       "    <tr>\n",
       "      <th>4</th>\n",
       "      <td>5</td>\n",
       "      <td>1</td>\n",
       "      <td>Vic</td>\n",
       "      <td>0</td>\n",
       "      <td>2.0</td>\n",
       "      <td>91.5</td>\n",
       "      <td>56.3</td>\n",
       "      <td>85.5</td>\n",
       "      <td>36.0</td>\n",
       "      <td>71.0</td>\n",
       "      <td>53.2</td>\n",
       "      <td>15.1</td>\n",
       "      <td>28.5</td>\n",
       "      <td>33.0</td>\n",
       "    </tr>\n",
       "  </tbody>\n",
       "</table>\n",
       "</div>"
      ],
      "text/plain": [
       "   case  site  Pop  sex  age  hdlngth  skullw  totlngth  taill  footlgth  \\\n",
       "0     1     1  Vic    1  8.0     94.1    60.4      89.0   36.0      74.5   \n",
       "1     2     1  Vic    0  6.0     92.5    57.6      91.5   36.5      72.5   \n",
       "2     3     1  Vic    0  6.0     94.0    60.0      95.5   39.0      75.4   \n",
       "3     4     1  Vic    0  6.0     93.2    57.1      92.0   38.0      76.1   \n",
       "4     5     1  Vic    0  2.0     91.5    56.3      85.5   36.0      71.0   \n",
       "\n",
       "   earconch   eye  chest  belly  \n",
       "0      54.5  15.2   28.0   36.0  \n",
       "1      51.2  16.0   28.5   33.0  \n",
       "2      51.9  15.5   30.0   34.0  \n",
       "3      52.2  15.2   28.0   34.0  \n",
       "4      53.2  15.1   28.5   33.0  "
      ]
     },
     "execution_count": 2,
     "metadata": {},
     "output_type": "execute_result"
    }
   ],
   "source": [
    "#Cargamos el DataSet con los datos de las zarigüeyas \n",
    "data = pd.read_csv('possum.csv')\n",
    "#Observamos los encabezados del DataFrame\n",
    "data.head()"
   ]
  },
  {
   "cell_type": "code",
   "execution_count": 3,
   "id": "2a256d0c-74e8-47c0-81d2-025bdfaa6518",
   "metadata": {
    "tags": []
   },
   "outputs": [
    {
     "name": "stdout",
     "output_type": "stream",
     "text": [
      "<class 'pandas.core.frame.DataFrame'>\n",
      "Int64Index: 101 entries, 0 to 103\n",
      "Data columns (total 14 columns):\n",
      " #   Column    Non-Null Count  Dtype  \n",
      "---  ------    --------------  -----  \n",
      " 0   case      101 non-null    int64  \n",
      " 1   site      101 non-null    int64  \n",
      " 2   Pop       101 non-null    object \n",
      " 3   sex       101 non-null    int64  \n",
      " 4   age       101 non-null    float64\n",
      " 5   hdlngth   101 non-null    float64\n",
      " 6   skullw    101 non-null    float64\n",
      " 7   totlngth  101 non-null    float64\n",
      " 8   taill     101 non-null    float64\n",
      " 9   footlgth  101 non-null    float64\n",
      " 10  earconch  101 non-null    float64\n",
      " 11  eye       101 non-null    float64\n",
      " 12  chest     101 non-null    float64\n",
      " 13  belly     101 non-null    float64\n",
      "dtypes: float64(10), int64(3), object(1)\n",
      "memory usage: 11.8+ KB\n"
     ]
    }
   ],
   "source": [
    "data = data.dropna()\n",
    "#Verificamos nuevamente la información del DataFrame\n",
    "data.info()"
   ]
  },
  {
   "cell_type": "code",
   "execution_count": 4,
   "id": "7548474c-6c72-45af-b2c6-cc77611698f9",
   "metadata": {
    "tags": []
   },
   "outputs": [],
   "source": [
    "#Agrupamos el conjunto de entrenamiento y variable de clase\n",
    "X_train = data[['case', 'site', 'sex','age','hdlngth','skullw','totlngth','taill', 'footlgth' , 'earconch' , 'eye' , 'chest' , 'belly']]\n",
    "y_train = data[['sex']]"
   ]
  },
  {
   "cell_type": "code",
   "execution_count": 5,
   "id": "57fd008a-6053-47b4-925c-356c125cfe54",
   "metadata": {
    "tags": []
   },
   "outputs": [],
   "source": [
    "from sklearn.datasets import make_circles, make_classification, make_moons\n",
    "from sklearn.discriminant_analysis import QuadraticDiscriminantAnalysis\n",
    "from sklearn.ensemble import AdaBoostClassifier, RandomForestClassifier\n",
    "from sklearn.gaussian_process import GaussianProcessClassifier\n",
    "from sklearn.gaussian_process.kernels import RBF\n",
    "from sklearn.inspection import DecisionBoundaryDisplay\n",
    "from sklearn.model_selection import train_test_split\n",
    "from sklearn.naive_bayes import GaussianNB\n",
    "from sklearn.neighbors import KNeighborsClassifier\n",
    "from sklearn.neural_network import MLPClassifier\n",
    "from sklearn.pipeline import make_pipeline\n",
    "from sklearn.preprocessing import StandardScaler\n",
    "from sklearn.svm import SVC\n",
    "from sklearn.tree import DecisionTreeClassifier\n",
    "from sklearn.model_selection import cross_val_predict\n",
    "from sklearn.ensemble import GradientBoostingClassifier\n",
    "from sklearn.ensemble import BaggingClassifier\n",
    "from mlxtend.classifier import StackingCVClassifier\n",
    "from sklearn.ensemble import VotingClassifier\n",
    "from sklearn.metrics import (confusion_matrix, accuracy_score)\n",
    "import warnings\n",
    "from sklearn.feature_selection import mutual_info_classif\n",
    "from sklearn.decomposition import PCA\n",
    "warnings.simplefilter(\"ignore\")"
   ]
  },
  {
   "cell_type": "markdown",
   "id": "039796aa-c79d-43d2-bed1-62c0f0103b36",
   "metadata": {},
   "source": [
    "Primero objetivo\n",
    "\n",
    "se usaran 10 clasificadores los cuales son:\n",
    "1. Arboles de desicion \n",
    "2. Aprendizaje bayesioano\n",
    "3. Máquina de soporte vectorial\n",
    "4. SVC\n",
    "5. GaussianNB\n",
    "6. RandomForest\n",
    "7. AdaBoost\n",
    "8. RBF\n",
    "9. GaussianProcess\n",
    "10. QDA\n",
    "\n",
    "en todos estos clasificadores se usara validacion cruzada con K=10 usando cross_val_score\n"
   ]
  },
  {
   "cell_type": "code",
   "execution_count": 6,
   "id": "4d5c5fd0-8753-4aff-a819-417f3d27ff68",
   "metadata": {
    "tags": []
   },
   "outputs": [
    {
     "name": "stdout",
     "output_type": "stream",
     "text": [
      "Confusion Matrix : \n",
      " [[42  0]\n",
      " [ 0 59]]\n",
      "Test accuracy =  1.0\n",
      "sensibilidad= 1.0\n",
      "especificidad= 1.0\n"
     ]
    }
   ],
   "source": [
    "clfd1 = DecisionTreeClassifier(max_depth=5, random_state=42)\n",
    "prediccion = cross_val_predict(clfd1, X_train, y_train, cv=10)\n",
    "# confusion matrix\n",
    "cm = confusion_matrix(y_train, prediccion) \n",
    "print (\"Confusion Matrix : \\n\", cm) \n",
    "  \n",
    "# accuracy score of the model\n",
    "print('Test accuracy = ', accuracy_score(y_train, prediccion))\n",
    "TP = cm[0][0]\n",
    "FP = cm[0][1]\n",
    "FN = cm[1][0]\n",
    "TN = cm[1][1]\n",
    "sensibilidad = TP / (TP + FN)\n",
    "\n",
    "especificidad = TN / (TN + FP)\n",
    "print('sensibilidad=' , sensibilidad)\n",
    "print( 'especificidad=', especificidad)"
   ]
  },
  {
   "cell_type": "code",
   "execution_count": 7,
   "id": "4d5d59d4-2c85-4777-ac86-5f80edd67e79",
   "metadata": {
    "tags": []
   },
   "outputs": [
    {
     "name": "stdout",
     "output_type": "stream",
     "text": [
      "Confusion Matrix : \n",
      " [[42  0]\n",
      " [ 0 59]]\n",
      "Test accuracy =  1.0\n",
      "sensibilidad= 1.0\n",
      "especificidad= 1.0\n"
     ]
    }
   ],
   "source": [
    "clfd2 = GaussianNB()\n",
    "prediccion = cross_val_predict(clfd2, X_train, y_train, cv=10)\n",
    "# confusion matrix\n",
    "cm = confusion_matrix(y_train, prediccion) \n",
    "print (\"Confusion Matrix : \\n\", cm) \n",
    "  \n",
    "# accuracy score of the model\n",
    "print('Test accuracy = ', accuracy_score(y_train, prediccion))\n",
    "TP = cm[0][0]\n",
    "FP = cm[0][1]\n",
    "FN = cm[1][0]\n",
    "TN = cm[1][1]\n",
    "sensibilidad = TP / (TP + FN)\n",
    "\n",
    "especificidad = TN / (TN + FP)\n",
    "print('sensibilidad=' , sensibilidad)\n",
    "print( 'especificidad=', especificidad)"
   ]
  },
  {
   "cell_type": "code",
   "execution_count": 8,
   "id": "815265f3-1289-471f-ad95-9c99f318b496",
   "metadata": {
    "tags": []
   },
   "outputs": [
    {
     "name": "stdout",
     "output_type": "stream",
     "text": [
      "Confusion Matrix : \n",
      " [[11 31]\n",
      " [36 23]]\n",
      "Test accuracy =  0.33663366336633666\n",
      "sensibilidad= 0.23404255319148937\n",
      "especificidad= 0.42592592592592593\n"
     ]
    }
   ],
   "source": [
    "clfd3 = KNeighborsClassifier(5)\n",
    "prediccion = cross_val_predict(clfd3, X_train, y_train, cv=10)\n",
    "# confusion matrix\n",
    "cm = confusion_matrix(y_train, prediccion) \n",
    "print (\"Confusion Matrix : \\n\", cm) \n",
    "  \n",
    "# accuracy score of the model\n",
    "print('Test accuracy = ', accuracy_score(y_train, prediccion))\n",
    "TP = cm[0][0]\n",
    "FP = cm[0][1]\n",
    "FN = cm[1][0]\n",
    "TN = cm[1][1]\n",
    "sensibilidad = TP / (TP + FN)\n",
    "\n",
    "especificidad = TN / (TN + FP)\n",
    "print('sensibilidad=' , sensibilidad)\n",
    "print( 'especificidad=', especificidad)"
   ]
  },
  {
   "cell_type": "code",
   "execution_count": 9,
   "id": "50fa97ea-ad3a-4e6d-a67b-5b6b777ccdc5",
   "metadata": {
    "tags": []
   },
   "outputs": [
    {
     "name": "stdout",
     "output_type": "stream",
     "text": [
      "Confusion Matrix : \n",
      " [[11 31]\n",
      " [36 23]]\n",
      "Test accuracy =  0.33663366336633666\n",
      "sensibilidad= 0.23404255319148937\n",
      "especificidad= 0.42592592592592593\n"
     ]
    }
   ],
   "source": [
    "clfd4 = SVC (kernel=\"linear\", C=0.025, random_state=42)\n",
    "prediccion = cross_val_predict(clfd3, X_train, y_train, cv=10)\n",
    "# confusion matrix\n",
    "cm = confusion_matrix(y_train, prediccion) \n",
    "print (\"Confusion Matrix : \\n\", cm) \n",
    "  \n",
    "# accuracy score of the model\n",
    "print('Test accuracy = ', accuracy_score(y_train, prediccion))\n",
    "TP = cm[0][0]\n",
    "FP = cm[0][1]\n",
    "FN = cm[1][0]\n",
    "TN = cm[1][1]\n",
    "sensibilidad = TP / (TP + FN)\n",
    "\n",
    "especificidad = TN / (TN + FP)\n",
    "print('sensibilidad=' , sensibilidad)\n",
    "print( 'especificidad=', especificidad)"
   ]
  },
  {
   "cell_type": "code",
   "execution_count": 10,
   "id": "83f37099-2ec2-4b44-972f-33f9d6670a92",
   "metadata": {
    "tags": []
   },
   "outputs": [
    {
     "name": "stdout",
     "output_type": "stream",
     "text": [
      "Confusion Matrix : \n",
      " [[28 14]\n",
      " [22 37]]\n",
      "Test accuracy =  0.6435643564356436\n",
      "sensibilidad= 0.56\n",
      "especificidad= 0.7254901960784313\n"
     ]
    }
   ],
   "source": [
    "clfd5 = GaussianProcessClassifier (1.0 * RBF(1.0), random_state=42)\n",
    "prediccion = cross_val_predict(clfd5, X_train, y_train, cv=10)\n",
    "# confusion matrix\n",
    "cm = confusion_matrix(y_train, prediccion) \n",
    "print (\"Confusion Matrix : \\n\", cm) \n",
    "  \n",
    "# accuracy score of the model\n",
    "print('Test accuracy = ', accuracy_score(y_train, prediccion))\n",
    "TP = cm[0][0]\n",
    "FP = cm[0][1]\n",
    "FN = cm[1][0]\n",
    "TN = cm[1][1]\n",
    "sensibilidad = TP / (TP + FN)\n",
    "\n",
    "especificidad = TN / (TN + FP)\n",
    "print('sensibilidad=' , sensibilidad)\n",
    "print( 'especificidad=', especificidad)"
   ]
  },
  {
   "cell_type": "code",
   "execution_count": 11,
   "id": "914fe0b1-bb3d-4138-ab86-060d40bf8f3d",
   "metadata": {
    "tags": []
   },
   "outputs": [
    {
     "name": "stdout",
     "output_type": "stream",
     "text": [
      "Confusion Matrix : \n",
      " [[31 11]\n",
      " [ 3 56]]\n",
      "Test accuracy =  0.8613861386138614\n",
      "sensibilidad= 0.9117647058823529\n",
      "especificidad= 0.835820895522388\n"
     ]
    }
   ],
   "source": [
    "clfd6 =  RandomForestClassifier(max_depth=5, n_estimators=10, max_features=1, random_state=42)\n",
    "prediccion = cross_val_predict(clfd6, X_train, y_train, cv=10)\n",
    "# confusion matrix\n",
    "cm = confusion_matrix(y_train, prediccion) \n",
    "print (\"Confusion Matrix : \\n\", cm) \n",
    "  \n",
    "# accuracy score of the model\n",
    "print('Test accuracy = ', accuracy_score(y_train, prediccion))\n",
    "TP = cm[0][0]\n",
    "FP = cm[0][1]\n",
    "FN = cm[1][0]\n",
    "TN = cm[1][1]\n",
    "sensibilidad = TP / (TP + FN)\n",
    "\n",
    "especificidad = TN / (TN + FP)\n",
    "print('sensibilidad=' , sensibilidad)\n",
    "print( 'especificidad=', especificidad)"
   ]
  },
  {
   "cell_type": "code",
   "execution_count": 12,
   "id": "098e174c-f870-4719-9293-9dd41982042d",
   "metadata": {
    "tags": []
   },
   "outputs": [
    {
     "name": "stdout",
     "output_type": "stream",
     "text": [
      "Confusion Matrix : \n",
      " [[42  0]\n",
      " [ 0 59]]\n",
      "Test accuracy =  1.0\n",
      "sensibilidad= 1.0\n",
      "especificidad= 1.0\n"
     ]
    }
   ],
   "source": [
    "clfd7 =  AdaBoostClassifier(random_state=42)\n",
    "prediccion = cross_val_predict(clfd7, X_train, y_train, cv=10)\n",
    "# confusion matrix\n",
    "cm = confusion_matrix(y_train, prediccion) \n",
    "print (\"Confusion Matrix : \\n\", cm) \n",
    "  \n",
    "# accuracy score of the model\n",
    "print('Test accuracy = ', accuracy_score(y_train, prediccion))\n",
    "TP = cm[0][0]\n",
    "FP = cm[0][1]\n",
    "FN = cm[1][0]\n",
    "TN = cm[1][1]\n",
    "sensibilidad = TP / (TP + FN)\n",
    "\n",
    "especificidad = TN / (TN + FP)\n",
    "print('sensibilidad=' , sensibilidad)\n",
    "print( 'especificidad=', especificidad)"
   ]
  },
  {
   "cell_type": "code",
   "execution_count": 13,
   "id": "9fce035e-46fd-494c-b378-3c00645b0c53",
   "metadata": {
    "tags": []
   },
   "outputs": [
    {
     "name": "stdout",
     "output_type": "stream",
     "text": [
      "Confusion Matrix : \n",
      " [[ 0 42]\n",
      " [ 0 59]]\n",
      "Test accuracy =  0.5841584158415841\n",
      "sensibilidad= nan\n",
      "especificidad= 0.5841584158415841\n"
     ]
    }
   ],
   "source": [
    "clfd8 =  SVC(gamma=2, C=1, random_state=42)\n",
    "prediccion = cross_val_predict(clfd8, X_train, y_train, cv=10)\n",
    "# confusion matrix\n",
    "cm = confusion_matrix(y_train, prediccion) \n",
    "print (\"Confusion Matrix : \\n\", cm) \n",
    "  \n",
    "# accuracy score of the model\n",
    "print('Test accuracy = ', accuracy_score(y_train, prediccion))\n",
    "TP = cm[0][0]\n",
    "FP = cm[0][1]\n",
    "FN = cm[1][0]\n",
    "TN = cm[1][1]\n",
    "sensibilidad = TP / (TP + FN)\n",
    "\n",
    "especificidad = TN / (TN + FP)\n",
    "print('sensibilidad=' , sensibilidad)\n",
    "print( 'especificidad=', especificidad)"
   ]
  },
  {
   "cell_type": "code",
   "execution_count": 14,
   "id": "eb1456ae-f65a-4c37-94f4-5d43d6e29bf4",
   "metadata": {
    "tags": []
   },
   "outputs": [
    {
     "name": "stdout",
     "output_type": "stream",
     "text": [
      "Confusion Matrix : \n",
      " [[28 14]\n",
      " [22 37]]\n",
      "Test accuracy =  0.6435643564356436\n",
      "sensibilidad= 0.56\n",
      "especificidad= 0.7254901960784313\n"
     ]
    }
   ],
   "source": [
    "clfd9 =  GaussianProcessClassifier(1.0 * RBF(1.0), random_state=42)\n",
    "prediccion = cross_val_predict(clfd9, X_train, y_train, cv=10)\n",
    "# confusion matrix\n",
    "cm = confusion_matrix(y_train, prediccion) \n",
    "print (\"Confusion Matrix : \\n\", cm) \n",
    "  \n",
    "# accuracy score of the model\n",
    "print('Test accuracy = ', accuracy_score(y_train, prediccion))\n",
    "TP = cm[0][0]\n",
    "FP = cm[0][1]\n",
    "FN = cm[1][0]\n",
    "TN = cm[1][1]\n",
    "sensibilidad = TP / (TP + FN)\n",
    "\n",
    "especificidad = TN / (TN + FP)\n",
    "print('sensibilidad=' , sensibilidad)\n",
    "print( 'especificidad=', especificidad)"
   ]
  },
  {
   "cell_type": "code",
   "execution_count": 15,
   "id": "e5011a66-a745-4f37-ab29-480632759887",
   "metadata": {
    "tags": []
   },
   "outputs": [
    {
     "name": "stdout",
     "output_type": "stream",
     "text": [
      "Confusion Matrix : \n",
      " [[42  0]\n",
      " [ 0 59]]\n",
      "Test accuracy =  1.0\n",
      "sensibilidad= 1.0\n",
      "especificidad= 1.0\n"
     ]
    }
   ],
   "source": [
    "clfd10 =  QuadraticDiscriminantAnalysis()\n",
    "prediccion = cross_val_predict(clfd10, X_train, y_train, cv=10)\n",
    "# confusion matrix\n",
    "cm = confusion_matrix(y_train, prediccion) \n",
    "print (\"Confusion Matrix : \\n\", cm) \n",
    "  \n",
    "# accuracy score of the model\n",
    "print('Test accuracy = ', accuracy_score(y_train, prediccion))\n",
    "TP = cm[0][0]\n",
    "FP = cm[0][1]\n",
    "FN = cm[1][0]\n",
    "TN = cm[1][1]\n",
    "sensibilidad = TP / (TP + FN)\n",
    "\n",
    "especificidad = TN / (TN + FP)\n",
    "print('sensibilidad=' , sensibilidad)\n",
    "print( 'especificidad=', especificidad)"
   ]
  },
  {
   "cell_type": "markdown",
   "id": "a09ad7c4-1343-40a3-86cd-dcda5ac5627d",
   "metadata": {},
   "source": [
    "### Primero Objetivo.-\n",
    "\n",
    "Basandonos en los resultados ateriores y discriminando los clasificsafores con los que obtuvimos valores de \"1\" vamos a tomar en cuenta solo los siguentes resultados:\n",
    "\n",
    "1. RandomForestClassifier\n",
    "    Test accuracy =  0.8613861386138614\n",
    "2. GaussianProcessClassifier\n",
    "    Test accuracy =  0.6435643564356436\n",
    "3. SVC\n",
    "    Test accuracy =  0.5841584158415841\n",
    "    \n"
   ]
  },
  {
   "cell_type": "code",
   "execution_count": 16,
   "id": "53acb0c8-264a-40bf-a3ad-34d66f361f31",
   "metadata": {
    "tags": []
   },
   "outputs": [
    {
     "data": {
      "text/html": [
       "<div>\n",
       "<style scoped>\n",
       "    .dataframe tbody tr th:only-of-type {\n",
       "        vertical-align: middle;\n",
       "    }\n",
       "\n",
       "    .dataframe tbody tr th {\n",
       "        vertical-align: top;\n",
       "    }\n",
       "\n",
       "    .dataframe thead th {\n",
       "        text-align: right;\n",
       "    }\n",
       "</style>\n",
       "<table border=\"1\" class=\"dataframe\">\n",
       "  <thead>\n",
       "    <tr style=\"text-align: right;\">\n",
       "      <th></th>\n",
       "      <th>case</th>\n",
       "      <th>site</th>\n",
       "      <th>Pop</th>\n",
       "      <th>sex</th>\n",
       "      <th>age</th>\n",
       "      <th>hdlngth</th>\n",
       "      <th>skullw</th>\n",
       "      <th>totlngth</th>\n",
       "      <th>taill</th>\n",
       "      <th>footlgth</th>\n",
       "      <th>earconch</th>\n",
       "      <th>eye</th>\n",
       "      <th>chest</th>\n",
       "      <th>belly</th>\n",
       "    </tr>\n",
       "  </thead>\n",
       "  <tbody>\n",
       "    <tr>\n",
       "      <th>0</th>\n",
       "      <td>1</td>\n",
       "      <td>1</td>\n",
       "      <td>Vic</td>\n",
       "      <td>1</td>\n",
       "      <td>8.0</td>\n",
       "      <td>94.1</td>\n",
       "      <td>60.4</td>\n",
       "      <td>89.0</td>\n",
       "      <td>36.0</td>\n",
       "      <td>74.5</td>\n",
       "      <td>54.5</td>\n",
       "      <td>15.2</td>\n",
       "      <td>28.0</td>\n",
       "      <td>36.0</td>\n",
       "    </tr>\n",
       "    <tr>\n",
       "      <th>1</th>\n",
       "      <td>2</td>\n",
       "      <td>1</td>\n",
       "      <td>Vic</td>\n",
       "      <td>0</td>\n",
       "      <td>6.0</td>\n",
       "      <td>92.5</td>\n",
       "      <td>57.6</td>\n",
       "      <td>91.5</td>\n",
       "      <td>36.5</td>\n",
       "      <td>72.5</td>\n",
       "      <td>51.2</td>\n",
       "      <td>16.0</td>\n",
       "      <td>28.5</td>\n",
       "      <td>33.0</td>\n",
       "    </tr>\n",
       "    <tr>\n",
       "      <th>2</th>\n",
       "      <td>3</td>\n",
       "      <td>1</td>\n",
       "      <td>Vic</td>\n",
       "      <td>0</td>\n",
       "      <td>6.0</td>\n",
       "      <td>94.0</td>\n",
       "      <td>60.0</td>\n",
       "      <td>95.5</td>\n",
       "      <td>39.0</td>\n",
       "      <td>75.4</td>\n",
       "      <td>51.9</td>\n",
       "      <td>15.5</td>\n",
       "      <td>30.0</td>\n",
       "      <td>34.0</td>\n",
       "    </tr>\n",
       "    <tr>\n",
       "      <th>3</th>\n",
       "      <td>4</td>\n",
       "      <td>1</td>\n",
       "      <td>Vic</td>\n",
       "      <td>0</td>\n",
       "      <td>6.0</td>\n",
       "      <td>93.2</td>\n",
       "      <td>57.1</td>\n",
       "      <td>92.0</td>\n",
       "      <td>38.0</td>\n",
       "      <td>76.1</td>\n",
       "      <td>52.2</td>\n",
       "      <td>15.2</td>\n",
       "      <td>28.0</td>\n",
       "      <td>34.0</td>\n",
       "    </tr>\n",
       "    <tr>\n",
       "      <th>4</th>\n",
       "      <td>5</td>\n",
       "      <td>1</td>\n",
       "      <td>Vic</td>\n",
       "      <td>0</td>\n",
       "      <td>2.0</td>\n",
       "      <td>91.5</td>\n",
       "      <td>56.3</td>\n",
       "      <td>85.5</td>\n",
       "      <td>36.0</td>\n",
       "      <td>71.0</td>\n",
       "      <td>53.2</td>\n",
       "      <td>15.1</td>\n",
       "      <td>28.5</td>\n",
       "      <td>33.0</td>\n",
       "    </tr>\n",
       "  </tbody>\n",
       "</table>\n",
       "</div>"
      ],
      "text/plain": [
       "   case  site  Pop  sex  age  hdlngth  skullw  totlngth  taill  footlgth  \\\n",
       "0     1     1  Vic    1  8.0     94.1    60.4      89.0   36.0      74.5   \n",
       "1     2     1  Vic    0  6.0     92.5    57.6      91.5   36.5      72.5   \n",
       "2     3     1  Vic    0  6.0     94.0    60.0      95.5   39.0      75.4   \n",
       "3     4     1  Vic    0  6.0     93.2    57.1      92.0   38.0      76.1   \n",
       "4     5     1  Vic    0  2.0     91.5    56.3      85.5   36.0      71.0   \n",
       "\n",
       "   earconch   eye  chest  belly  \n",
       "0      54.5  15.2   28.0   36.0  \n",
       "1      51.2  16.0   28.5   33.0  \n",
       "2      51.9  15.5   30.0   34.0  \n",
       "3      52.2  15.2   28.0   34.0  \n",
       "4      53.2  15.1   28.5   33.0  "
      ]
     },
     "execution_count": 16,
     "metadata": {},
     "output_type": "execute_result"
    }
   ],
   "source": [
    "data.head()"
   ]
  },
  {
   "cell_type": "code",
   "execution_count": 17,
   "id": "a9d88796-6042-4441-bf15-60e23ce63f50",
   "metadata": {
    "tags": []
   },
   "outputs": [],
   "source": [
    "data=data.drop(['Pop'],axis=1)"
   ]
  },
  {
   "cell_type": "code",
   "execution_count": 18,
   "id": "54d268fd-a05e-4408-91d3-7973510c34d2",
   "metadata": {
    "tags": []
   },
   "outputs": [
    {
     "data": {
      "text/html": [
       "<div>\n",
       "<style scoped>\n",
       "    .dataframe tbody tr th:only-of-type {\n",
       "        vertical-align: middle;\n",
       "    }\n",
       "\n",
       "    .dataframe tbody tr th {\n",
       "        vertical-align: top;\n",
       "    }\n",
       "\n",
       "    .dataframe thead th {\n",
       "        text-align: right;\n",
       "    }\n",
       "</style>\n",
       "<table border=\"1\" class=\"dataframe\">\n",
       "  <thead>\n",
       "    <tr style=\"text-align: right;\">\n",
       "      <th></th>\n",
       "      <th>case</th>\n",
       "      <th>site</th>\n",
       "      <th>sex</th>\n",
       "      <th>age</th>\n",
       "      <th>hdlngth</th>\n",
       "      <th>skullw</th>\n",
       "      <th>totlngth</th>\n",
       "      <th>taill</th>\n",
       "      <th>footlgth</th>\n",
       "      <th>earconch</th>\n",
       "      <th>eye</th>\n",
       "      <th>chest</th>\n",
       "      <th>belly</th>\n",
       "    </tr>\n",
       "  </thead>\n",
       "  <tbody>\n",
       "    <tr>\n",
       "      <th>0</th>\n",
       "      <td>1</td>\n",
       "      <td>1</td>\n",
       "      <td>1</td>\n",
       "      <td>8.0</td>\n",
       "      <td>94.1</td>\n",
       "      <td>60.4</td>\n",
       "      <td>89.0</td>\n",
       "      <td>36.0</td>\n",
       "      <td>74.5</td>\n",
       "      <td>54.5</td>\n",
       "      <td>15.2</td>\n",
       "      <td>28.0</td>\n",
       "      <td>36.0</td>\n",
       "    </tr>\n",
       "    <tr>\n",
       "      <th>1</th>\n",
       "      <td>2</td>\n",
       "      <td>1</td>\n",
       "      <td>0</td>\n",
       "      <td>6.0</td>\n",
       "      <td>92.5</td>\n",
       "      <td>57.6</td>\n",
       "      <td>91.5</td>\n",
       "      <td>36.5</td>\n",
       "      <td>72.5</td>\n",
       "      <td>51.2</td>\n",
       "      <td>16.0</td>\n",
       "      <td>28.5</td>\n",
       "      <td>33.0</td>\n",
       "    </tr>\n",
       "    <tr>\n",
       "      <th>2</th>\n",
       "      <td>3</td>\n",
       "      <td>1</td>\n",
       "      <td>0</td>\n",
       "      <td>6.0</td>\n",
       "      <td>94.0</td>\n",
       "      <td>60.0</td>\n",
       "      <td>95.5</td>\n",
       "      <td>39.0</td>\n",
       "      <td>75.4</td>\n",
       "      <td>51.9</td>\n",
       "      <td>15.5</td>\n",
       "      <td>30.0</td>\n",
       "      <td>34.0</td>\n",
       "    </tr>\n",
       "    <tr>\n",
       "      <th>3</th>\n",
       "      <td>4</td>\n",
       "      <td>1</td>\n",
       "      <td>0</td>\n",
       "      <td>6.0</td>\n",
       "      <td>93.2</td>\n",
       "      <td>57.1</td>\n",
       "      <td>92.0</td>\n",
       "      <td>38.0</td>\n",
       "      <td>76.1</td>\n",
       "      <td>52.2</td>\n",
       "      <td>15.2</td>\n",
       "      <td>28.0</td>\n",
       "      <td>34.0</td>\n",
       "    </tr>\n",
       "    <tr>\n",
       "      <th>4</th>\n",
       "      <td>5</td>\n",
       "      <td>1</td>\n",
       "      <td>0</td>\n",
       "      <td>2.0</td>\n",
       "      <td>91.5</td>\n",
       "      <td>56.3</td>\n",
       "      <td>85.5</td>\n",
       "      <td>36.0</td>\n",
       "      <td>71.0</td>\n",
       "      <td>53.2</td>\n",
       "      <td>15.1</td>\n",
       "      <td>28.5</td>\n",
       "      <td>33.0</td>\n",
       "    </tr>\n",
       "  </tbody>\n",
       "</table>\n",
       "</div>"
      ],
      "text/plain": [
       "   case  site  sex  age  hdlngth  skullw  totlngth  taill  footlgth  earconch  \\\n",
       "0     1     1    1  8.0     94.1    60.4      89.0   36.0      74.5      54.5   \n",
       "1     2     1    0  6.0     92.5    57.6      91.5   36.5      72.5      51.2   \n",
       "2     3     1    0  6.0     94.0    60.0      95.5   39.0      75.4      51.9   \n",
       "3     4     1    0  6.0     93.2    57.1      92.0   38.0      76.1      52.2   \n",
       "4     5     1    0  2.0     91.5    56.3      85.5   36.0      71.0      53.2   \n",
       "\n",
       "    eye  chest  belly  \n",
       "0  15.2   28.0   36.0  \n",
       "1  16.0   28.5   33.0  \n",
       "2  15.5   30.0   34.0  \n",
       "3  15.2   28.0   34.0  \n",
       "4  15.1   28.5   33.0  "
      ]
     },
     "execution_count": 18,
     "metadata": {},
     "output_type": "execute_result"
    }
   ],
   "source": [
    "data.head()"
   ]
  },
  {
   "cell_type": "code",
   "execution_count": 30,
   "id": "309abf95-d1bb-4f21-85af-6aef02f181ce",
   "metadata": {
    "tags": []
   },
   "outputs": [
    {
     "name": "stdout",
     "output_type": "stream",
     "text": [
      "(101, 13)\n",
      "(101, 1)\n",
      "(101,)\n"
     ]
    }
   ],
   "source": [
    "X = data[['case', 'site', 'sex','age','hdlngth','skullw','totlngth','taill', 'footlgth' , 'earconch' , 'eye' , 'chest' , 'belly']]\n",
    "y = data[['sex']]\n",
    "print (X.shape)\n",
    "print (y.shape)\n",
    "y = np.array(y).reshape(101)\n",
    "print (y.shape)"
   ]
  },
  {
   "cell_type": "code",
   "execution_count": 31,
   "id": "41b9b706-2169-4721-9620-40c13df661a3",
   "metadata": {
    "tags": []
   },
   "outputs": [],
   "source": [
    "X = preprocessing.StandardScaler().fit(X).transform(X)"
   ]
  },
  {
   "cell_type": "code",
   "execution_count": 32,
   "id": "3067994b-c2a1-4314-86e8-e3c168efe5a4",
   "metadata": {
    "tags": []
   },
   "outputs": [],
   "source": [
    "sss = StratifiedShuffleSplit(n_splits=5, test_size=0.2, random_state=0)"
   ]
  },
  {
   "cell_type": "markdown",
   "id": "24eb9f6a-407e-48fc-9bdc-1b163518d2d8",
   "metadata": {},
   "source": [
    "Acontinuacion se presenta el modelo base"
   ]
  },
  {
   "cell_type": "code",
   "execution_count": 33,
   "id": "f3aef78e-b91f-4be3-a20f-436cdd11585e",
   "metadata": {
    "tags": []
   },
   "outputs": [
    {
     "name": "stdout",
     "output_type": "stream",
     "text": [
      "[1.0, 1.0, 1.0, 1.0, 1.0]\n",
      "1.0\n"
     ]
    }
   ],
   "source": [
    "clf_nb = GaussianNB()\n",
    "scores = []\n",
    "\n",
    "for train_index, test_index in sss.split(X, y):\n",
    "    X_train, X_test = X[train_index], X[test_index]\n",
    "    y_train, y_test = y[train_index], y[test_index]\n",
    "    clf_nb.fit(X_train, y_train)\n",
    "    y_pred = clf_nb.predict(X_test)\n",
    "    scores.append(f1_score(y_test, y_pred, average='weighted'))\n",
    "\n",
    "print(scores)\n",
    "print(mean(scores))"
   ]
  },
  {
   "cell_type": "markdown",
   "id": "7ad262b2-dae0-474c-8a26-ae53833ee2cb",
   "metadata": {},
   "source": [
    "### Boosting\n"
   ]
  },
  {
   "cell_type": "code",
   "execution_count": 40,
   "id": "4a587ca7-528e-4788-a5e9-eeb17b89fdc9",
   "metadata": {
    "tags": []
   },
   "outputs": [
    {
     "name": "stdout",
     "output_type": "stream",
     "text": [
      "[1. 1. 1. 1. 1. 1. 1. 1. 1. 1.]\n",
      "1.0\n"
     ]
    }
   ],
   "source": [
    "clf = GradientBoostingClassifier(n_estimators=10)\n",
    "scores = cross_val_score(clf, X, y, cv=10)\n",
    "print(scores)\n",
    "print(scores.mean())"
   ]
  },
  {
   "cell_type": "markdown",
   "id": "6f2b27b9-efff-4fb9-99a0-f0c108a46e51",
   "metadata": {},
   "source": [
    "### Bagging"
   ]
  },
  {
   "cell_type": "markdown",
   "id": "1ffb3c41-51fb-47ff-9e70-da4f2feb3001",
   "metadata": {
    "tags": []
   },
   "source": [
    "clf = BaggingClassifier(n_estimators=10)\n",
    "scores = cross_val_score(clf, X, y, cv=10)\n",
    "print(scores)\n",
    "print(scores.mean())"
   ]
  },
  {
   "cell_type": "markdown",
   "id": "6fb8bb85-6bc4-4f65-8385-5d8403a47182",
   "metadata": {
    "tags": []
   },
   "source": [
    "### Voting"
   ]
  },
  {
   "cell_type": "code",
   "execution_count": 44,
   "id": "60118dd4-b523-4294-8ef8-3246081672ac",
   "metadata": {
    "tags": []
   },
   "outputs": [
    {
     "name": "stdout",
     "output_type": "stream",
     "text": [
      "Accuracy: 1.00 (+/- 0.00) [dt]\n",
      "Accuracy: 1.00 (+/- 0.00) [nb]\n",
      "Accuracy: 0.94 (+/- 0.05) [kNN]\n",
      "Accuracy: 1.00 (+/- 0.00) [svm]\n",
      "Accuracy: 1.00 (+/- 0.00) [Ensemble]\n"
     ]
    }
   ],
   "source": [
    "clf1 = DecisionTreeClassifier()\n",
    "clf2 = GaussianNB()\n",
    "clf3 = KNeighborsClassifier(n_neighbors=3)\n",
    "clf4 = svm.SVC()\n",
    "eclf = VotingClassifier(\n",
    "     estimators=[('dt', clf1), ('nb', clf2), ('kNN', clf3), ('svm', clf4)],\n",
    "     voting='hard') # 'soft'\n",
    "for clf, label in zip([clf1, clf2, clf3, clf4, eclf], ['dt', 'nb', 'kNN', 'svm', 'Ensemble']):\n",
    "    scores = cross_val_score(clf, X, y, scoring='accuracy', cv=10)\n",
    "    print(\"Accuracy: %0.2f (+/- %0.2f) [%s]\" % (scores.mean(), scores.std(), label))"
   ]
  },
  {
   "cell_type": "code",
   "execution_count": null,
   "id": "807309da-c2c4-4994-8a6a-ac6a11ed3f04",
   "metadata": {},
   "outputs": [],
   "source": []
  },
  {
   "cell_type": "markdown",
   "id": "0473f1d2-68e5-4e80-9689-57f9f43ce4d2",
   "metadata": {},
   "source": [
    "## 2da. parte "
   ]
  },
  {
   "cell_type": "markdown",
   "id": "6ee629ae-10f8-4096-b667-66a25975e27e",
   "metadata": {},
   "source": [
    "### Boosting"
   ]
  },
  {
   "cell_type": "code",
   "execution_count": 45,
   "id": "90b80e36-06e8-4a58-9771-d27b9c597bf5",
   "metadata": {
    "tags": []
   },
   "outputs": [
    {
     "name": "stdout",
     "output_type": "stream",
     "text": [
      "[1. 1. 1. 1. 1. 1. 1. 1. 1. 1.]\n",
      "1.0\n"
     ]
    }
   ],
   "source": [
    "clf = GradientBoostingClassifier(n_estimators=10)\n",
    "scores = cross_val_score(clf, X, y, cv=10)\n",
    "print(scores)\n",
    "print(scores.mean())"
   ]
  },
  {
   "cell_type": "code",
   "execution_count": 46,
   "id": "a9562e6f-cefd-49dd-bdef-065369bd1cc9",
   "metadata": {
    "tags": []
   },
   "outputs": [
    {
     "name": "stdout",
     "output_type": "stream",
     "text": [
      "[1. 1. 1. 1. 1. 1. 1. 1. 1. 1.]\n",
      "1.0\n"
     ]
    }
   ],
   "source": [
    "clf = GradientBoostingClassifier(n_estimators=50)\n",
    "scores = cross_val_score(clf, X, y, cv=10)\n",
    "print(scores)\n",
    "print(scores.mean())"
   ]
  },
  {
   "cell_type": "code",
   "execution_count": 49,
   "id": "18efd742-0307-48f2-ba30-f9ce62d94739",
   "metadata": {
    "tags": []
   },
   "outputs": [
    {
     "name": "stdout",
     "output_type": "stream",
     "text": [
      "[1. 1. 1. 1. 1. 1. 1. 1. 1. 1.]\n",
      "1.0\n"
     ]
    }
   ],
   "source": [
    "clf = GradientBoostingClassifier(n_estimators=5)\n",
    "scores = cross_val_score(clf, X, y, cv=10)\n",
    "print(scores)\n",
    "print(scores.mean())"
   ]
  },
  {
   "cell_type": "code",
   "execution_count": 53,
   "id": "71ae0546-3b16-44fd-81b1-7ce539a481a0",
   "metadata": {
    "tags": []
   },
   "outputs": [
    {
     "name": "stdout",
     "output_type": "stream",
     "text": [
      "[0.54545455 0.6        0.6        0.6        0.6        0.6\n",
      " 0.6        0.6        0.6        0.5       ]\n",
      "0.5845454545454546\n"
     ]
    }
   ],
   "source": [
    "clf = GradientBoostingClassifier(n_estimators=1)\n",
    "scores = cross_val_score(clf, X, y, cv=10)\n",
    "print(scores)\n",
    "print(scores.mean())"
   ]
  },
  {
   "cell_type": "code",
   "execution_count": 55,
   "id": "e15bc3aa-b9a4-4c58-9acf-d7c70f8e099e",
   "metadata": {
    "tags": []
   },
   "outputs": [
    {
     "name": "stdout",
     "output_type": "stream",
     "text": [
      "[1. 1. 1. 1. 1. 1. 1. 1. 1. 1.]\n",
      "1.0\n"
     ]
    }
   ],
   "source": [
    "clf = GradientBoostingClassifier(n_estimators=1000)\n",
    "scores = cross_val_score(clf, X, y, cv=10)\n",
    "print(scores)\n",
    "print(scores.mean())"
   ]
  },
  {
   "cell_type": "markdown",
   "id": "1fe1330b-9496-4c23-b1c7-320043d9d468",
   "metadata": {
    "tags": []
   },
   "source": [
    "### Bagging"
   ]
  },
  {
   "cell_type": "code",
   "execution_count": 58,
   "id": "b72558d7-3af5-4c43-b98f-8d776507c4c0",
   "metadata": {
    "tags": []
   },
   "outputs": [
    {
     "name": "stdout",
     "output_type": "stream",
     "text": [
      "[1. 1. 1. 1. 1. 1. 1. 1. 1. 1.]\n",
      "1.0\n"
     ]
    }
   ],
   "source": [
    "clf = BaggingClassifier(n_estimators=50)\n",
    "scores = cross_val_score(clf, X, y, cv=10)\n",
    "print(scores)\n",
    "print(scores.mean())"
   ]
  },
  {
   "cell_type": "code",
   "execution_count": 59,
   "id": "7afe0cf2-2446-41ba-975a-738422013047",
   "metadata": {
    "tags": []
   },
   "outputs": [
    {
     "name": "stdout",
     "output_type": "stream",
     "text": [
      "[1. 1. 1. 1. 1. 1. 1. 1. 1. 1.]\n",
      "1.0\n"
     ]
    }
   ],
   "source": [
    "clf = BaggingClassifier(n_estimators=100)\n",
    "scores = cross_val_score(clf, X, y, cv=10)\n",
    "print(scores)\n",
    "print(scores.mean())"
   ]
  },
  {
   "cell_type": "code",
   "execution_count": 61,
   "id": "72fa000d-7718-40be-850c-5c60432f54e6",
   "metadata": {
    "tags": []
   },
   "outputs": [
    {
     "name": "stdout",
     "output_type": "stream",
     "text": [
      "[1. 1. 1. 1. 1. 1. 1. 1. 1. 1.]\n",
      "1.0\n"
     ]
    }
   ],
   "source": [
    "clf = BaggingClassifier(n_estimators=1000)\n",
    "scores = cross_val_score(clf, X, y, cv=10)\n",
    "print(scores)\n",
    "print(scores.mean())"
   ]
  },
  {
   "cell_type": "code",
   "execution_count": 62,
   "id": "1fbb5198-af45-4c03-955f-1292eac767a5",
   "metadata": {
    "tags": []
   },
   "outputs": [
    {
     "name": "stdout",
     "output_type": "stream",
     "text": [
      "[1. 1. 1. 1. 1. 1. 1. 1. 1. 1.]\n",
      "1.0\n"
     ]
    }
   ],
   "source": [
    "clf = BaggingClassifier(n_estimators=5)\n",
    "scores = cross_val_score(clf, X, y, cv=10)\n",
    "print(scores)\n",
    "print(scores.mean())"
   ]
  },
  {
   "cell_type": "code",
   "execution_count": 63,
   "id": "df8052d1-113d-45cb-a03a-c4c7f94b2abf",
   "metadata": {
    "tags": []
   },
   "outputs": [
    {
     "name": "stdout",
     "output_type": "stream",
     "text": [
      "[1. 1. 1. 1. 1. 1. 1. 1. 1. 1.]\n",
      "1.0\n"
     ]
    }
   ],
   "source": [
    "clf = BaggingClassifier(n_estimators=3)\n",
    "scores = cross_val_score(clf, X, y, cv=10)\n",
    "print(scores)\n",
    "print(scores.mean())"
   ]
  },
  {
   "cell_type": "code",
   "execution_count": 64,
   "id": "618a15f8-6913-47bb-9ae3-84d9d02fc9af",
   "metadata": {
    "tags": []
   },
   "outputs": [
    {
     "name": "stdout",
     "output_type": "stream",
     "text": [
      "[1. 1. 1. 1. 1. 1. 1. 1. 1. 1.]\n",
      "1.0\n"
     ]
    }
   ],
   "source": [
    "clf = BaggingClassifier(n_estimators=1)\n",
    "scores = cross_val_score(clf, X, y, cv=10)\n",
    "print(scores)\n",
    "print(scores.mean())"
   ]
  },
  {
   "cell_type": "markdown",
   "id": "a87d66e3-c465-4b63-8c05-06bbc68015c2",
   "metadata": {},
   "source": [
    "### Voting\n"
   ]
  },
  {
   "cell_type": "code",
   "execution_count": 66,
   "id": "413fb0b3-3c41-4cf3-a6c8-e94b35df356a",
   "metadata": {
    "tags": []
   },
   "outputs": [
    {
     "name": "stdout",
     "output_type": "stream",
     "text": [
      "Accuracy: 1.00 (+/- 0.00) [dt]\n",
      "Accuracy: 0.95 (+/- 0.05) [nb]\n",
      "Accuracy: 1.00 (+/- 0.00) [kNN]\n",
      "Accuracy: 1.00 (+/- 0.00) [svm]\n",
      "Accuracy: 1.00 (+/- 0.00) [Ensemble]\n"
     ]
    }
   ],
   "source": [
    "clf1 = svm.SVC() \n",
    "clf2 = KNeighborsClassifier(n_neighbors=10)\n",
    "clf3 = GaussianNB() \n",
    "clf4 = DecisionTreeClassifier()\n",
    "eclf = VotingClassifier(\n",
    "     estimators=[('dt', clf1), ('nb', clf2), ('kNN', clf3), ('svm', clf4)],\n",
    "     voting='hard') # 'soft'\n",
    "for clf, label in zip([clf1, clf2, clf3, clf4, eclf], ['dt', 'nb', 'kNN', 'svm', 'Ensemble']):\n",
    "    scores = cross_val_score(clf, X, y, scoring='accuracy', cv=10)\n",
    "    print(\"Accuracy: %0.2f (+/- %0.2f) [%s]\" % (scores.mean(), scores.std(), label))"
   ]
  },
  {
   "cell_type": "code",
   "execution_count": 67,
   "id": "fdac4974-2c34-4836-b4a3-a1a79eacef9e",
   "metadata": {
    "tags": []
   },
   "outputs": [
    {
     "name": "stdout",
     "output_type": "stream",
     "text": [
      "Accuracy: 1.00 (+/- 0.00) [dt]\n",
      "Accuracy: 0.87 (+/- 0.17) [nb]\n",
      "Accuracy: 1.00 (+/- 0.00) [kNN]\n",
      "Accuracy: 1.00 (+/- 0.00) [svm]\n",
      "Accuracy: 1.00 (+/- 0.00) [Ensemble]\n"
     ]
    }
   ],
   "source": [
    "clf1 = svm.SVC() \n",
    "clf2 = KNeighborsClassifier(n_neighbors=50)\n",
    "clf3 = GaussianNB() \n",
    "clf4 = DecisionTreeClassifier()\n",
    "eclf = VotingClassifier(\n",
    "     estimators=[('dt', clf1), ('nb', clf2), ('kNN', clf3), ('svm', clf4)],\n",
    "     voting='hard') # 'soft'\n",
    "for clf, label in zip([clf1, clf2, clf3, clf4, eclf], ['dt', 'nb', 'kNN', 'svm', 'Ensemble']):\n",
    "    scores = cross_val_score(clf, X, y, scoring='accuracy', cv=10)\n",
    "    print(\"Accuracy: %0.2f (+/- %0.2f) [%s]\" % (scores.mean(), scores.std(), label))"
   ]
  },
  {
   "cell_type": "code",
   "execution_count": 69,
   "id": "ce782600-bbd9-4122-ae62-05c281362e51",
   "metadata": {
    "tags": []
   },
   "outputs": [
    {
     "name": "stdout",
     "output_type": "stream",
     "text": [
      "Accuracy: 1.00 (+/- 0.00) [dt]\n",
      "Accuracy: 0.58 (+/- 0.03) [nb]\n",
      "Accuracy: 1.00 (+/- 0.00) [kNN]\n",
      "Accuracy: 1.00 (+/- 0.00) [svm]\n",
      "Accuracy: 1.00 (+/- 0.00) [Ensemble]\n"
     ]
    }
   ],
   "source": [
    "clf1 = svm.SVC() \n",
    "clf2 = KNeighborsClassifier(n_neighbors=90)\n",
    "clf3 = GaussianNB() \n",
    "clf4 = DecisionTreeClassifier()\n",
    "eclf = VotingClassifier(\n",
    "     estimators=[('dt', clf1), ('nb', clf2), ('kNN', clf3), ('svm', clf4)],\n",
    "     voting='hard') # 'soft'\n",
    "for clf, label in zip([clf1, clf2, clf3, clf4, eclf], ['dt', 'nb', 'kNN', 'svm', 'Ensemble']):\n",
    "    scores = cross_val_score(clf, X, y, scoring='accuracy', cv=10)\n",
    "    print(\"Accuracy: %0.2f (+/- %0.2f) [%s]\" % (scores.mean(), scores.std(), label))"
   ]
  },
  {
   "cell_type": "code",
   "execution_count": 70,
   "id": "0fe1d9b0-e742-4e56-be50-ff9f4873595f",
   "metadata": {
    "tags": []
   },
   "outputs": [
    {
     "name": "stdout",
     "output_type": "stream",
     "text": [
      "Accuracy: 1.00 (+/- 0.00) [dt]\n",
      "Accuracy: nan (+/- nan) [nb]\n",
      "Accuracy: 1.00 (+/- 0.00) [kNN]\n",
      "Accuracy: 1.00 (+/- 0.00) [svm]\n",
      "Accuracy: nan (+/- nan) [Ensemble]\n"
     ]
    }
   ],
   "source": [
    "clf1 = svm.SVC() \n",
    "clf2 = KNeighborsClassifier(n_neighbors=100)\n",
    "clf3 = GaussianNB() \n",
    "clf4 = DecisionTreeClassifier()\n",
    "eclf = VotingClassifier(\n",
    "     estimators=[('dt', clf1), ('nb', clf2), ('kNN', clf3), ('svm', clf4)],\n",
    "     voting='hard') # 'soft'\n",
    "for clf, label in zip([clf1, clf2, clf3, clf4, eclf], ['dt', 'nb', 'kNN', 'svm', 'Ensemble']):\n",
    "    scores = cross_val_score(clf, X, y, scoring='accuracy', cv=10)\n",
    "    print(\"Accuracy: %0.2f (+/- %0.2f) [%s]\" % (scores.mean(), scores.std(), label))"
   ]
  },
  {
   "cell_type": "markdown",
   "id": "006f5e03-2cac-4c75-8f5c-712a6b73e1a0",
   "metadata": {},
   "source": [
    "### Conclusion "
   ]
  },
  {
   "cell_type": "markdown",
   "id": "ef148ae2-5ccf-4fea-a8d1-e05ae869cde8",
   "metadata": {},
   "source": [
    "Al momento de optimizar los valores observanoms que existe como en el estimators \"1\" de Boosting, de lo contrario Bagging no tuvo ninguna variante.\n",
    "por ultimo al utilizar Voting ya que es un ensable de 4 Clasificadores se observa una pequeña variante al usar un valor de \"90\" ya que al uzar un valor de \"100\" nos arroja un valor \"nan\""
   ]
  },
  {
   "cell_type": "code",
   "execution_count": null,
   "id": "80f6bf7c-91ea-447c-b167-406549b72efc",
   "metadata": {},
   "outputs": [],
   "source": []
  }
 ],
 "metadata": {
  "kernelspec": {
   "display_name": "Python 3 (ipykernel)",
   "language": "python",
   "name": "python3"
  },
  "language_info": {
   "codemirror_mode": {
    "name": "ipython",
    "version": 3
   },
   "file_extension": ".py",
   "mimetype": "text/x-python",
   "name": "python",
   "nbconvert_exporter": "python",
   "pygments_lexer": "ipython3",
   "version": "3.11.4"
  }
 },
 "nbformat": 4,
 "nbformat_minor": 5
}
