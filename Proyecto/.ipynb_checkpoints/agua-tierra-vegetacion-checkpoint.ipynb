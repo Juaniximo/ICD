{
 "cells": [
  {
   "cell_type": "code",
   "execution_count": 1,
   "id": "d90f7574-ea70-4af3-968d-98422133279e",
   "metadata": {
    "tags": []
   },
   "outputs": [],
   "source": [
    "import pandas as pd\n",
    "import numpy as np\n",
    "import matplotlib.pyplot as plt\n",
    "import matplotlib.axes as ax\n",
    "import seaborn as sns\n",
    "import warnings\n",
    "warnings.simplefilter(\"ignore\")\n",
    "\n",
    "\n",
    "from sklearn.linear_model import LinearRegression\n",
    "from sklearn.model_selection import cross_val_score\n",
    "from sklearn.ensemble import GradientBoostingClassifier\n",
    "from sklearn.ensemble import BaggingClassifier\n",
    "from mlxtend.classifier import StackingCVClassifier\n",
    "from sklearn.ensemble import VotingClassifier\n",
    "from sklearn import preprocessing\n",
    "from sklearn.model_selection import StratifiedShuffleSplit\n",
    "from sklearn.metrics import f1_score\n",
    "from numpy import mean\n",
    "from sklearn.ensemble import GradientBoostingClassifier\n",
    "from sklearn.ensemble import BaggingClassifier\n",
    "from sklearn.linear_model import LogisticRegression\n",
    "from sklearn.naive_bayes import GaussianNB\n",
    "from sklearn.ensemble import RandomForestClassifier\n",
    "\n",
    "from sklearn.datasets import make_circles, make_classification, make_moons\n",
    "from sklearn.discriminant_analysis import QuadraticDiscriminantAnalysis\n",
    "from sklearn.ensemble import AdaBoostClassifier, RandomForestClassifier\n",
    "from sklearn.gaussian_process import GaussianProcessClassifier\n",
    "from sklearn.gaussian_process.kernels import RBF\n",
    "from sklearn.inspection import DecisionBoundaryDisplay\n",
    "from sklearn.model_selection import train_test_split\n",
    "from sklearn.naive_bayes import GaussianNB\n",
    "from sklearn.neighbors import KNeighborsClassifier\n",
    "from sklearn.neural_network import MLPClassifier\n",
    "from sklearn.pipeline import make_pipeline\n",
    "from sklearn.preprocessing import StandardScaler\n",
    "from sklearn.svm import SVC\n",
    "from sklearn.tree import DecisionTreeClassifier\n",
    "from sklearn.model_selection import cross_val_predict\n",
    "from sklearn.ensemble import GradientBoostingClassifier\n",
    "from sklearn.ensemble import BaggingClassifier\n",
    "from mlxtend.classifier import StackingCVClassifier\n",
    "from sklearn.ensemble import VotingClassifier\n",
    "from sklearn.metrics import (confusion_matrix, accuracy_score)\n",
    "import warnings\n",
    "from sklearn.feature_selection import mutual_info_classif\n",
    "from sklearn.decomposition import PCA\n",
    "warnings.simplefilter(\"ignore\")"
   ]
  },
  {
   "cell_type": "code",
   "execution_count": 2,
   "id": "e899b1a4-600e-4c5a-be99-d7731b4bc7ac",
   "metadata": {
    "tags": []
   },
   "outputs": [
    {
     "data": {
      "text/html": [
       "<div>\n",
       "<style scoped>\n",
       "    .dataframe tbody tr th:only-of-type {\n",
       "        vertical-align: middle;\n",
       "    }\n",
       "\n",
       "    .dataframe tbody tr th {\n",
       "        vertical-align: top;\n",
       "    }\n",
       "\n",
       "    .dataframe thead th {\n",
       "        text-align: right;\n",
       "    }\n",
       "</style>\n",
       "<table border=\"1\" class=\"dataframe\">\n",
       "  <thead>\n",
       "    <tr style=\"text-align: right;\">\n",
       "      <th></th>\n",
       "      <th>id</th>\n",
       "      <th>NIR</th>\n",
       "      <th>RED</th>\n",
       "      <th>CLASS</th>\n",
       "    </tr>\n",
       "  </thead>\n",
       "  <tbody>\n",
       "    <tr>\n",
       "      <th>0</th>\n",
       "      <td>6276</td>\n",
       "      <td>24</td>\n",
       "      <td>16</td>\n",
       "      <td>1</td>\n",
       "    </tr>\n",
       "    <tr>\n",
       "      <th>1</th>\n",
       "      <td>6277</td>\n",
       "      <td>19</td>\n",
       "      <td>14</td>\n",
       "      <td>1</td>\n",
       "    </tr>\n",
       "    <tr>\n",
       "      <th>2</th>\n",
       "      <td>6278</td>\n",
       "      <td>18</td>\n",
       "      <td>14</td>\n",
       "      <td>1</td>\n",
       "    </tr>\n",
       "    <tr>\n",
       "      <th>3</th>\n",
       "      <td>6279</td>\n",
       "      <td>16</td>\n",
       "      <td>12</td>\n",
       "      <td>1</td>\n",
       "    </tr>\n",
       "    <tr>\n",
       "      <th>4</th>\n",
       "      <td>6280</td>\n",
       "      <td>24</td>\n",
       "      <td>16</td>\n",
       "      <td>1</td>\n",
       "    </tr>\n",
       "  </tbody>\n",
       "</table>\n",
       "</div>"
      ],
      "text/plain": [
       "     id  NIR  RED  CLASS\n",
       "0  6276   24   16      1\n",
       "1  6277   19   14      1\n",
       "2  6278   18   14      1\n",
       "3  6279   16   12      1\n",
       "4  6280   24   16      1"
      ]
     },
     "execution_count": 2,
     "metadata": {},
     "output_type": "execute_result"
    }
   ],
   "source": [
    "#Cargamos el DataSet con los datos de clasificacion de suelo, agua y vegetacion \n",
    "data = pd.read_csv('sav.csv')\n",
    "#Observamos los encabezados del DataFrame\n",
    "data.head()"
   ]
  },
  {
   "cell_type": "code",
   "execution_count": 3,
   "id": "2ba18b70-22fd-4ff8-8d19-947732f3c0a4",
   "metadata": {
    "tags": []
   },
   "outputs": [
    {
     "name": "stdout",
     "output_type": "stream",
     "text": [
      "<class 'pandas.core.frame.DataFrame'>\n",
      "RangeIndex: 16992 entries, 0 to 16991\n",
      "Data columns (total 4 columns):\n",
      " #   Column  Non-Null Count  Dtype\n",
      "---  ------  --------------  -----\n",
      " 0   id      16992 non-null  int64\n",
      " 1   NIR     16992 non-null  int64\n",
      " 2   RED     16992 non-null  int64\n",
      " 3   CLASS   16992 non-null  int64\n",
      "dtypes: int64(4)\n",
      "memory usage: 531.1 KB\n"
     ]
    }
   ],
   "source": [
    "data.info()"
   ]
  },
  {
   "cell_type": "code",
   "execution_count": 4,
   "id": "1c2887eb-9e48-4ce1-aeb5-8be35d2e5e57",
   "metadata": {
    "tags": []
   },
   "outputs": [
    {
     "data": {
      "image/png": "[encoded data removed]",
      "text/plain": [
       "<Figure size 640x480 with 2 Axes>"
      ]
     },
     "metadata": {},
     "output_type": "display_data"
    }
   ],
   "source": [
    "sns.heatmap(data.isna());"
   ]
  },
  {
   "cell_type": "code",
   "execution_count": 5,
   "id": "ef1567bb-009d-4755-badc-e5ff59a5979e",
   "metadata": {
    "tags": []
   },
   "outputs": [],
   "source": [
    "#Agrupamos el conjunto de entrenamiento y variable de clase\n",
    "X_train = data[['NIR', 'RED']]\n",
    "y_train = data[['CLASS']]"
   ]
  },
  {
   "cell_type": "code",
   "execution_count": 6,
   "id": "50b17aef-7dc8-4d73-b818-7396fb59aa47",
   "metadata": {
    "tags": []
   },
   "outputs": [
    {
     "name": "stdout",
     "output_type": "stream",
     "text": [
      "       NIR  RED\n",
      "0       24   16\n",
      "1       19   14\n",
      "2       18   14\n",
      "3       16   12\n",
      "4       24   16\n",
      "...    ...  ...\n",
      "16987  221   62\n",
      "16988  212   60\n",
      "16989  210   60\n",
      "16990  216   44\n",
      "16991  207   66\n",
      "\n",
      "[16992 rows x 2 columns]\n",
      "       CLASS\n",
      "0          1\n",
      "1          1\n",
      "2          1\n",
      "3          1\n",
      "4          1\n",
      "...      ...\n",
      "16987      2\n",
      "16988      2\n",
      "16989      2\n",
      "16990      2\n",
      "16991      2\n",
      "\n",
      "[16992 rows x 1 columns]\n"
     ]
    }
   ],
   "source": [
    "print(X_train)\n",
    "print(y_train)"
   ]
  },
  {
   "cell_type": "markdown",
   "id": "24dcc48e-65a1-4c20-972f-dee598f0f80b",
   "metadata": {},
   "source": [
    "meta modelo Naive Bayes"
   ]
  },
  {
   "cell_type": "code",
   "execution_count": 7,
   "id": "a85fca10-9e11-42f4-8166-25cdb586aa26",
   "metadata": {
    "tags": []
   },
   "outputs": [],
   "source": [
    "#Método de validación\n",
    "from sklearn.model_selection import StratifiedShuffleSplit\n",
    "from sklearn.metrics import f1_score #Conocer la precisión de nuestros modelos \n",
    "from numpy import mean #Conocer la media o promedio de los 5 conjuntos\n",
    "from sklearn.metrics import (confusion_matrix, accuracy_score)"
   ]
  },
  {
   "cell_type": "code",
   "execution_count": 8,
   "id": "c5a432d2-d687-4308-a935-4ce3033a6ca9",
   "metadata": {
    "tags": []
   },
   "outputs": [],
   "source": [
    "from sklearn import preprocessing\n",
    "X = preprocessing.StandardScaler().fit(X_train).transform(X_train)\n",
    "\n",
    "sss = StratifiedShuffleSplit(n_splits=5, test_size=0.2, random_state=0)"
   ]
  },
  {
   "cell_type": "code",
   "execution_count": 9,
   "id": "ec08dabb-a316-4056-bda5-9c1e45943ea1",
   "metadata": {
    "tags": []
   },
   "outputs": [],
   "source": [
    "from sklearn.preprocessing import LabelEncoder\n",
    "\n",
    "encoder = LabelEncoder()\n",
    "y = y_train\n",
    "# Ajustar y transformar las etiquetas a números\n",
    "#y = y.ravel()\n",
    "y = encoder.fit_transform(y)\n"
   ]
  },
  {
   "cell_type": "code",
   "execution_count": 10,
   "id": "cca16205-2842-40eb-913d-afd7763b03d2",
   "metadata": {
    "tags": []
   },
   "outputs": [
    {
     "name": "stdout",
     "output_type": "stream",
     "text": [
      "[1.0, 0.999705791016206, 0.999117343055648, 0.999705791016206, 0.9994115721632575]\n",
      "0.9995880994502635\n"
     ]
    }
   ],
   "source": [
    "clf_nb = GaussianNB()\n",
    "scores = []\n",
    "\n",
    "for train_index, test_index in sss.split(X, y):\n",
    "    X_train, X_test = X[train_index], X[test_index]\n",
    "    y_train, y_test = y[train_index], y[test_index]\n",
    "    clf_nb.fit(X_train, y_train)\n",
    "    y_pred = clf_nb.predict(X_test)\n",
    "    scores.append(f1_score(y_test, y_pred, average='weighted'))\n",
    "\n",
    "print(scores)\n",
    "print(mean(scores))"
   ]
  },
  {
   "cell_type": "code",
   "execution_count": 11,
   "id": "00fa1cfe-0d1a-4050-b5e4-d9e33c20207b",
   "metadata": {
    "tags": []
   },
   "outputs": [
    {
     "name": "stdout",
     "output_type": "stream",
     "text": [
      "[[1255    0    0]\n",
      " [   0 1033    2]\n",
      " [   0    0 1109]]\n"
     ]
    }
   ],
   "source": [
    "# Calcular la matriz de confusión\n",
    "cm1 = confusion_matrix(y_test, y_pred)\n",
    "\n",
    "# Imprimir la matriz de confusión\n",
    "print(cm1)"
   ]
  },
  {
   "cell_type": "markdown",
   "id": "9cc5694d-144d-4ae5-abbe-30fa8f3fe646",
   "metadata": {},
   "source": [
    "#### Solamente clasificadores"
   ]
  },
  {
   "cell_type": "markdown",
   "id": "79f0f199-920e-4d08-aafb-01902a47a19d",
   "metadata": {},
   "source": [
    "arbol de desicion "
   ]
  },
  {
   "cell_type": "code",
   "execution_count": 12,
   "id": "c06596ab-98b9-49ad-931d-72e414a9186f",
   "metadata": {
    "tags": []
   },
   "outputs": [
    {
     "name": "stdout",
     "output_type": "stream",
     "text": [
      "Matriz de confusión: \n",
      " [[5020    0    0]\n",
      " [   0 4139    0]\n",
      " [   0    0 4434]]\n",
      "Puntuación de precisión de la prueba =  1.0\n",
      "Sensibilidad =  1.0\n",
      "Especificidad =  1.0\n"
     ]
    }
   ],
   "source": [
    "clfd1 = DecisionTreeClassifier(max_depth=5, random_state=42)\n",
    "prediccion = cross_val_predict(clfd1, X_train, y_train, cv=10)\n",
    "\n",
    "# Matriz de confusión\n",
    "cm2 = confusion_matrix(y_train, prediccion) \n",
    "print(\"Matriz de confusión: \\n\", cm2)\n",
    "\n",
    "# Puntuación de precisión del modelo\n",
    "print('Puntuación de precisión de la prueba = ', accuracy_score(y_train, prediccion))\n",
    "\n",
    "TP = cm2[0][0]\n",
    "FP = cm2[0][1]\n",
    "FN = cm2[1][0]\n",
    "TN = cm2[1][1]\n",
    "sensibilidad = TP / (TP + FN)\n",
    "especificidad = TN / (TN + FP)\n",
    "\n",
    "print('Sensibilidad = ', sensibilidad)\n",
    "print('Especificidad = ', especificidad)\n"
   ]
  },
  {
   "cell_type": "markdown",
   "id": "0cf5309c-291b-4696-9667-dae6caafe26e",
   "metadata": {},
   "source": [
    "Gaussian BN"
   ]
  },
  {
   "cell_type": "code",
   "execution_count": 13,
   "id": "56fa7cd9-00b6-4e28-b0eb-2643029fe350",
   "metadata": {
    "tags": []
   },
   "outputs": [
    {
     "name": "stdout",
     "output_type": "stream",
     "text": [
      "Confusion Matrix : \n",
      " [[5020    0    0]\n",
      " [   0 4133    6]\n",
      " [   0    0 4434]]\n",
      "Test accuracy =  0.9995585963363496\n",
      "sensibilidad= 1.0\n",
      "especificidad= 1.0\n"
     ]
    }
   ],
   "source": [
    "clfd2 = GaussianNB()\n",
    "prediccion = cross_val_predict(clfd2, X_train, y_train, cv=10)\n",
    "# confusion matrix\n",
    "cm3 = confusion_matrix(y_train, prediccion) \n",
    "print (\"Confusion Matrix : \\n\", cm3) \n",
    "  \n",
    "# accuracy score of the model\n",
    "print('Test accuracy = ', accuracy_score(y_train, prediccion))\n",
    "TP = cm3[0][0]\n",
    "FP = cm3[0][1]\n",
    "FN = cm3[1][0]\n",
    "TN = cm3[1][1]\n",
    "sensibilidad = TP / (TP + FN)\n",
    "\n",
    "especificidad = TN / (TN + FP)\n",
    "print('sensibilidad=' , sensibilidad)\n",
    "print( 'especificidad=', especificidad)"
   ]
  },
  {
   "cell_type": "markdown",
   "id": "ea0399d4-f488-484d-8ce7-6e2e367b7af4",
   "metadata": {},
   "source": [
    "KNN"
   ]
  },
  {
   "cell_type": "code",
   "execution_count": 14,
   "id": "1d73fd89-6593-4f7d-9e94-64d71c980b97",
   "metadata": {
    "tags": []
   },
   "outputs": [
    {
     "name": "stdout",
     "output_type": "stream",
     "text": [
      "Confusion Matrix : \n",
      " [[5020    0    0]\n",
      " [   0 4139    0]\n",
      " [   0    0 4434]]\n",
      "Test accuracy =  1.0\n",
      "sensibilidad= 1.0\n",
      "especificidad= 1.0\n"
     ]
    }
   ],
   "source": [
    "clfd3 = KNeighborsClassifier(5)\n",
    "prediccion = cross_val_predict(clfd3, X_train, y_train, cv=10)\n",
    "# confusion matrix\n",
    "cm = confusion_matrix(y_train, prediccion) \n",
    "print (\"Confusion Matrix : \\n\", cm) \n",
    "  \n",
    "# accuracy score of the model\n",
    "print('Test accuracy = ', accuracy_score(y_train, prediccion))\n",
    "TP = cm[0][0]\n",
    "FP = cm[0][1]\n",
    "FN = cm[1][0]\n",
    "TN = cm[1][1]\n",
    "sensibilidad = TP / (TP + FN)\n",
    "\n",
    "especificidad = TN / (TN + FP)\n",
    "print('sensibilidad=' , sensibilidad)\n",
    "print( 'especificidad=', especificidad)"
   ]
  },
  {
   "cell_type": "markdown",
   "id": "c25d0ead-cf72-4c09-8db4-c7ff5edc0da6",
   "metadata": {},
   "source": [
    "gausiano"
   ]
  },
  {
   "cell_type": "code",
   "execution_count": null,
   "id": "739cdb67-62f8-46b6-a58d-04209a1e09e3",
   "metadata": {
    "tags": []
   },
   "outputs": [],
   "source": []
  },
  {
   "cell_type": "markdown",
   "id": "5ac3b325-d56d-4da6-a8c7-77c634cd77b8",
   "metadata": {},
   "source": []
  },
  {
   "cell_type": "code",
   "execution_count": 15,
   "id": "428c5dc6-118e-40d7-a373-cebfb6143b8c",
   "metadata": {
    "tags": []
   },
   "outputs": [
    {
     "name": "stdout",
     "output_type": "stream",
     "text": [
      "Confusion Matrix : \n",
      " [[5020    0    0]\n",
      " [   0 4138    1]\n",
      " [   0    0 4434]]\n",
      "Test accuracy =  0.999926432722725\n",
      "sensibilidad= 1.0\n",
      "especificidad= 1.0\n"
     ]
    }
   ],
   "source": [
    "clfd10 =  QuadraticDiscriminantAnalysis()\n",
    "prediccion = cross_val_predict(clfd10, X_train, y_train, cv=10)\n",
    "# confusion matrix\n",
    "cm = confusion_matrix(y_train, prediccion) \n",
    "print (\"Confusion Matrix : \\n\", cm) \n",
    "  \n",
    "# accuracy score of the model\n",
    "print('Test accuracy = ', accuracy_score(y_train, prediccion))\n",
    "TP = cm[0][0]\n",
    "FP = cm[0][1]\n",
    "FN = cm[1][0]\n",
    "TN = cm[1][1]\n",
    "sensibilidad = TP / (TP + FN)\n",
    "\n",
    "especificidad = TN / (TN + FP)\n",
    "print('sensibilidad=' , sensibilidad)\n",
    "print( 'especificidad=', especificidad)"
   ]
  },
  {
   "cell_type": "code",
   "execution_count": null,
   "id": "50f60fa9-1e37-4723-999f-8310c0f47f96",
   "metadata": {},
   "outputs": [],
   "source": []
  },
  {
   "cell_type": "code",
   "execution_count": 16,
   "id": "abf7eced-0abb-4ae7-87c0-ef8a79c7d813",
   "metadata": {
    "tags": []
   },
   "outputs": [
    {
     "name": "stdout",
     "output_type": "stream",
     "text": [
      "Confusion Matrix : \n",
      " [[5020    0    0]\n",
      " [   0 4139    0]\n",
      " [   0    0 4434]]\n",
      "Test accuracy =  1.0\n",
      "sensibilidad= 1.0\n",
      "especificidad= 1.0\n"
     ]
    }
   ],
   "source": [
    "clfd8 =  SVC(gamma=2, C=1, random_state=42)\n",
    "prediccion = cross_val_predict(clfd8, X_train, y_train, cv=10)\n",
    "# confusion matrix\n",
    "cm = confusion_matrix(y_train, prediccion) \n",
    "print (\"Confusion Matrix : \\n\", cm) \n",
    "  \n",
    "# accuracy score of the model\n",
    "print('Test accuracy = ', accuracy_score(y_train, prediccion))\n",
    "TP = cm[0][0]\n",
    "FP = cm[0][1]\n",
    "FN = cm[1][0]\n",
    "TN = cm[1][1]\n",
    "sensibilidad = TP / (TP + FN)\n",
    "\n",
    "especificidad = TN / (TN + FP)\n",
    "print('sensibilidad=' , sensibilidad)\n",
    "print( 'especificidad=', especificidad)"
   ]
  },
  {
   "cell_type": "code",
   "execution_count": 17,
   "id": "d7336341-9a47-4e5b-83eb-2793bea61639",
   "metadata": {
    "tags": []
   },
   "outputs": [
    {
     "name": "stdout",
     "output_type": "stream",
     "text": [
      "Confusion Matrix : \n",
      " [[5020    0    0]\n",
      " [   0 4139    0]\n",
      " [   0    0 4434]]\n",
      "Test accuracy =  1.0\n",
      "sensibilidad= 1.0\n",
      "especificidad= 1.0\n"
     ]
    }
   ],
   "source": [
    "clfd6 =  RandomForestClassifier(max_depth=5, n_estimators=10, max_features=1, random_state=42)\n",
    "prediccion = cross_val_predict(clfd6, X_train, y_train, cv=10)\n",
    "# confusion matrix\n",
    "cm = confusion_matrix(y_train, prediccion) \n",
    "print (\"Confusion Matrix : \\n\", cm) \n",
    "  \n",
    "# accuracy score of the model\n",
    "print('Test accuracy = ', accuracy_score(y_train, prediccion))\n",
    "TP = cm[0][0]\n",
    "FP = cm[0][1]\n",
    "FN = cm[1][0]\n",
    "TN = cm[1][1]\n",
    "sensibilidad = TP / (TP + FN)\n",
    "\n",
    "especificidad = TN / (TN + FP)\n",
    "print('sensibilidad=' , sensibilidad)\n",
    "print( 'especificidad=', especificidad)"
   ]
  },
  {
   "cell_type": "code",
   "execution_count": 18,
   "id": "5f3f9105-374d-468d-979c-579f811b98b3",
   "metadata": {
    "tags": []
   },
   "outputs": [
    {
     "name": "stdout",
     "output_type": "stream",
     "text": [
      "Confusion Matrix : \n",
      " [[5020    0    0]\n",
      " [   0 4139    0]\n",
      " [   0    0 4434]]\n",
      "Test accuracy =  1.0\n",
      "sensibilidad= 1.0\n",
      "especificidad= 1.0\n"
     ]
    }
   ],
   "source": [
    "clfd7 =  AdaBoostClassifier(random_state=42)\n",
    "prediccion = cross_val_predict(clfd7, X_train, y_train, cv=10)\n",
    "# confusion matrix\n",
    "cm = confusion_matrix(y_train, prediccion) \n",
    "print (\"Confusion Matrix : \\n\", cm) \n",
    "  \n",
    "# accuracy score of the model\n",
    "print('Test accuracy = ', accuracy_score(y_train, prediccion))\n",
    "TP = cm[0][0]\n",
    "FP = cm[0][1]\n",
    "FN = cm[1][0]\n",
    "TN = cm[1][1]\n",
    "sensibilidad = TP / (TP + FN)\n",
    "\n",
    "especificidad = TN / (TN + FP)\n",
    "print('sensibilidad=' , sensibilidad)\n",
    "print( 'especificidad=', especificidad)"
   ]
  },
  {
   "cell_type": "code",
   "execution_count": null,
   "id": "0bdfc34a-e18a-46db-b9ba-40a3d18fde51",
   "metadata": {},
   "outputs": [],
   "source": []
  },
  {
   "cell_type": "code",
   "execution_count": 19,
   "id": "457f472c-5d83-4f55-889f-b2b614315499",
   "metadata": {
    "tags": []
   },
   "outputs": [
    {
     "name": "stdout",
     "output_type": "stream",
     "text": [
      "Confusion Matrix : \n",
      " [[5020    0    0]\n",
      " [   0 4139    0]\n",
      " [   0    0 4434]]\n",
      "Test accuracy =  1.0\n",
      "Sensitivity:  1.0\n",
      "Specificity:  1.0\n"
     ]
    }
   ],
   "source": [
    "clasificador9 = MLPClassifier(alpha=1, max_iter=1000, random_state=42)\n",
    "#Realizamos la predicción por medio de la validación cruzada con k=10\n",
    "y_pred = cross_val_predict(clasificador9, X_train, y_train, cv=10)\n",
    "cm = confusion_matrix(y_train, y_pred) \n",
    "print (\"Confusion Matrix : \\n\", cm) \n",
    "  \n",
    "# accuracy score of the model\n",
    "print('Test accuracy = ', accuracy_score(y_train, y_pred))\n",
    "\n",
    "TN, FP, FN, TP = confusion_matrix(y_train, y_pred, labels=[0, 1]).ravel()\n",
    "\n",
    "# Sensitivity, hit rate, recall, or true positive rate\n",
    "TPR = TP/(TP+FN)\n",
    "# Specificity or true negative rate\n",
    "TNR = TN/(TN+FP) \n",
    "\n",
    "print('Sensitivity: ', TPR)\n",
    "print('Specificity: ', TNR)"
   ]
  },
  {
   "cell_type": "code",
   "execution_count": null,
   "id": "87679392-1d3a-46eb-a164-9ff9a375020f",
   "metadata": {},
   "outputs": [],
   "source": []
  },
  {
   "cell_type": "code",
   "execution_count": 20,
   "id": "2add1184-8c3b-410d-bd58-9f5dfada4d31",
   "metadata": {
    "tags": []
   },
   "outputs": [
    {
     "name": "stdout",
     "output_type": "stream",
     "text": [
      "Confusion Matrix : \n",
      " [[5020    0    0]\n",
      " [   0 4139    0]\n",
      " [   0    0 4434]]\n",
      "Test accuracy =  1.0\n",
      "Sensitivity:  1.0\n",
      "Specificity:  1.0\n"
     ]
    }
   ],
   "source": [
    "clasificador4 = SVC(kernel=\"linear\", C=0.025, random_state=42)\n",
    "#Realizamos la predicción por medio de la validación cruzada con k=10\n",
    "y_pred = cross_val_predict(clasificador4, X_train, y_train, cv=10)\n",
    "cm = confusion_matrix(y_train, y_pred) \n",
    "print (\"Confusion Matrix : \\n\", cm) \n",
    "  \n",
    "# accuracy score of the model\n",
    "print('Test accuracy = ', accuracy_score(y_train, y_pred))\n",
    "\n",
    "TN, FP, FN, TP = confusion_matrix(y_train, y_pred, labels=[0, 1]).ravel()\n",
    "\n",
    "# Sensitivity, hit rate, recall, or true positive rate\n",
    "TPR = TP/(TP+FN)\n",
    "# Specificity or true negative rate\n",
    "TNR = TN/(TN+FP) \n",
    "\n",
    "print('Sensitivity: ', TPR)\n",
    "print('Specificity: ', TNR)"
   ]
  },
  {
   "cell_type": "code",
   "execution_count": null,
   "id": "ca108465-3283-4a64-81ec-52c56f46165a",
   "metadata": {},
   "outputs": [],
   "source": []
  },
  {
   "cell_type": "code",
   "execution_count": 21,
   "id": "aa502aa7-9d82-4725-a04f-e5207586a4ff",
   "metadata": {
    "tags": []
   },
   "outputs": [],
   "source": [
    "from sklearn.decomposition import PCA\n",
    "from sklearn.manifold import TSNE"
   ]
  },
  {
   "cell_type": "code",
   "execution_count": 31,
   "id": "b97267ad-40b0-4f12-9353-3c5bc0f96b5f",
   "metadata": {
    "tags": []
   },
   "outputs": [],
   "source": [
    "data = data.drop(['id'], axis = 1)"
   ]
  },
  {
   "cell_type": "code",
   "execution_count": 32,
   "id": "2241b1fc-c3e8-4249-b308-2b8d400c3b31",
   "metadata": {
    "tags": []
   },
   "outputs": [
    {
     "data": {
      "text/html": [
       "<div>\n",
       "<style scoped>\n",
       "    .dataframe tbody tr th:only-of-type {\n",
       "        vertical-align: middle;\n",
       "    }\n",
       "\n",
       "    .dataframe tbody tr th {\n",
       "        vertical-align: top;\n",
       "    }\n",
       "\n",
       "    .dataframe thead th {\n",
       "        text-align: right;\n",
       "    }\n",
       "</style>\n",
       "<table border=\"1\" class=\"dataframe\">\n",
       "  <thead>\n",
       "    <tr style=\"text-align: right;\">\n",
       "      <th></th>\n",
       "      <th>NIR</th>\n",
       "      <th>RED</th>\n",
       "    </tr>\n",
       "  </thead>\n",
       "  <tbody>\n",
       "    <tr>\n",
       "      <th>0</th>\n",
       "      <td>24</td>\n",
       "      <td>16</td>\n",
       "    </tr>\n",
       "    <tr>\n",
       "      <th>1</th>\n",
       "      <td>19</td>\n",
       "      <td>14</td>\n",
       "    </tr>\n",
       "    <tr>\n",
       "      <th>2</th>\n",
       "      <td>18</td>\n",
       "      <td>14</td>\n",
       "    </tr>\n",
       "    <tr>\n",
       "      <th>3</th>\n",
       "      <td>16</td>\n",
       "      <td>12</td>\n",
       "    </tr>\n",
       "    <tr>\n",
       "      <th>4</th>\n",
       "      <td>24</td>\n",
       "      <td>16</td>\n",
       "    </tr>\n",
       "  </tbody>\n",
       "</table>\n",
       "</div>"
      ],
      "text/plain": [
       "   NIR  RED\n",
       "0   24   16\n",
       "1   19   14\n",
       "2   18   14\n",
       "3   16   12\n",
       "4   24   16"
      ]
     },
     "execution_count": 32,
     "metadata": {},
     "output_type": "execute_result"
    }
   ],
   "source": [
    "X = data.iloc[:, 0:-1]   #Separamos a los atributos\n",
    "X.head()"
   ]
  },
  {
   "cell_type": "code",
   "execution_count": 34,
   "id": "f780eaef-ba34-4f38-8660-1c38908372ac",
   "metadata": {
    "tags": []
   },
   "outputs": [
    {
     "data": {
      "image/png": "[encoded data removed]",
      "text/plain": [
       "<Figure size 640x480 with 1 Axes>"
      ]
     },
     "metadata": {},
     "output_type": "display_data"
    }
   ],
   "source": [
    "X_TSNE = TSNE().fit_transform(X) \n",
    "\n",
    "scatter = plt.scatter(X_TSNE[:,0], X_TSNE[:,1], c=y)\n",
    "plt.title('t-SNE plot in 2D')\n",
    "plt.xlabel('Component 1')\n",
    "plt.ylabel('Component 2')\n",
    "plt.legend(*scatter.legend_elements())\n",
    "plt.show()"
   ]
  },
  {
   "cell_type": "code",
   "execution_count": 36,
   "id": "24391216-81c5-4028-abfe-22d379834f7b",
   "metadata": {
    "tags": []
   },
   "outputs": [
    {
     "data": {
      "image/png": "[encoded data removed]",
      "text/plain": [
       "<Figure size 640x480 with 1 Axes>"
      ]
     },
     "metadata": {},
     "output_type": "display_data"
    }
   ],
   "source": [
    "X_PCA = PCA(n_components=2).fit_transform(X)\n",
    "\n",
    "scatter = plt.scatter(X_PCA[:,0], X_PCA[:,1], c=y)\n",
    "\n",
    "plt.title('PCA plot in 2D') \n",
    "plt.xlabel('Component 1')\n",
    "plt.ylabel('Component 2')\n",
    "plt.legend(*scatter.legend_elements())\n",
    "plt.show()"
   ]
  },
  {
   "cell_type": "code",
   "execution_count": null,
   "id": "6ee37c6f-60bd-44da-8195-bbce314e00ee",
   "metadata": {},
   "outputs": [],
   "source": []
  }
 ],
 "metadata": {
  "kernelspec": {
   "display_name": "Python 3 (ipykernel)",
   "language": "python",
   "name": "python3"
  },
  "language_info": {
   "codemirror_mode": {
    "name": "ipython",
    "version": 3
   },
   "file_extension": ".py",
   "mimetype": "text/x-python",
   "name": "python",
   "nbconvert_exporter": "python",
   "pygments_lexer": "ipython3",
   "version": "3.11.4"
  }
 },
 "nbformat": 4,
 "nbformat_minor": 5
}
