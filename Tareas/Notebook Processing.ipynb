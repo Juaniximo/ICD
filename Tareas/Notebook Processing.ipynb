{
 "cells": [
  {
   "cell_type": "markdown",
   "id": "956fab89-efce-41e2-bda4-954073346134",
   "metadata": {
    "tags": []
   },
   "source": [
    "Juan Miguel Armenta Cano\n"
   ]
  },
  {
   "cell_type": "markdown",
   "id": "a7e7403f-c21a-4499-953f-e91c08b530c9",
   "metadata": {},
   "source": [
    "Muchos pensarían que el trabajo de la ciencia de datos es exclusivo del desarrollo de modelos de aprendizaje automático y la evaluación de la métrica técnica. Si bien no está mal, la responsabilidad laboral es mucho mayor. Los científicos de datos necesitan trabajar en la recopilación, limpieza, análisis, comprensión de datos, etc.\n",
    "\n",
    "Entonces, ¿en qué tarea dedican más tiempo los científicos de datos? Según una encuesta de CrowdFlower, los científicos de datos dedican el 80% de su tiempo a limpiar datos. No es de extrañar porque nuestro proyecto de ciencia de datos depende de qué tan limpios estén nuestros datos.\n",
    "\n",
    "Sin embargo, existen métodos para acortar los tiempos de procesamiento de limpieza de datos mediante el empleo de paquetes de limpieza de datos. ¿Qué son estos paquetes y cómo funcionan? a continuacion haremos mencion de algunos de ellos "
   ]
  },
  {
   "cell_type": "markdown",
   "id": "2e41993d-b207-46fe-829d-877cbb6b8fbb",
   "metadata": {},
   "source": [
    "1. Pyjanitor"
   ]
  },
  {
   "cell_type": "code",
   "execution_count": 3,
   "id": "c399e609-77e1-4cef-b2f9-364acb0ce1f5",
   "metadata": {
    "tags": []
   },
   "outputs": [],
   "source": [
    "import pandas as pd"
   ]
  },
  {
   "cell_type": "code",
   "execution_count": 7,
   "id": "e4bae05a-4b92-48d3-830c-116f82564189",
   "metadata": {
    "tags": []
   },
   "outputs": [
    {
     "name": "stdout",
     "output_type": "stream",
     "text": [
      "<class 'pandas.core.frame.DataFrame'>\n",
      "RangeIndex: 25025 entries, 0 to 25024\n",
      "Data columns (total 10 columns):\n",
      " #   Column                Non-Null Count  Dtype \n",
      "---  ------                --------------  ----- \n",
      " 0   reviewId              25025 non-null  object\n",
      " 1   userName              25025 non-null  object\n",
      " 2   userImage             25025 non-null  object\n",
      " 3   content               25021 non-null  object\n",
      " 4   score                 25025 non-null  int64 \n",
      " 5   thumbsUpCount         25025 non-null  int64 \n",
      " 6   reviewCreatedVersion  22020 non-null  object\n",
      " 7   at                    25025 non-null  object\n",
      " 8   replyContent          8089 non-null   object\n",
      " 9   repliedAt             8089 non-null   object\n",
      "dtypes: int64(2), object(8)\n",
      "memory usage: 1.9+ MB\n"
     ]
    }
   ],
   "source": [
    "review = pd.read_csv('coffee_meets_bagel_google_play_reviews.csv')\n",
    "review.info()"
   ]
  },
  {
   "cell_type": "markdown",
   "id": "1a5ae184-9ad6-412d-8787-49a2634995dc",
   "metadata": {
    "tags": []
   },
   "source": [
    "Antes de comenzar, necesitamos instalar el paquete Pyjanitor."
   ]
  },
  {
   "cell_type": "code",
   "execution_count": null,
   "id": "a10715db-6faf-4220-b434-d968c369c19c",
   "metadata": {
    "tags": []
   },
   "outputs": [],
   "source": []
  },
  {
   "cell_type": "markdown",
   "id": "34edaf36-f7e3-45fd-bc39-ba4165df8435",
   "metadata": {},
   "source": [
    "Probemos el paquete Pyjanitor con nuestro conjunto de datos de muestra."
   ]
  },
  {
   "cell_type": "code",
   "execution_count": 10,
   "id": "4c294b42-a2ef-4fb7-a183-20c81f85d83f",
   "metadata": {
    "tags": []
   },
   "outputs": [],
   "source": [
    "import janitor\n",
    "jan_review = review.factorize_columns(column_names=[\"userName\"]).expand_column(column_name = 'reviewCreatedVersion').clean_names()"
   ]
  },
  {
   "cell_type": "markdown",
   "id": "4bbfbb0d-5fc8-417c-a5f3-41d739aab2e3",
   "metadata": {
    "tags": []
   },
   "source": [
    "podemos factorizar la columna de nombre de usuario para convertir los datos categóricos en numéricos \"factorize_columns\"\n",
    "\n",
    "Expanda la columna de revisión de la versión creada \"expand_column\"\n",
    "\n",
    "Se Limpia el nombre de la columna convirtiéndolos a minúsculas, luego se Cambian todos los espacios con guiones bajos \"clean_names\"\n"
   ]
  },
  {
   "cell_type": "markdown",
   "id": "55b799c9-d9ae-4404-895e-af7f70842640",
   "metadata": {},
   "source": [
    "Además, el método de cadena también funciona con la API original de Panda. Puede combinar ambos para lograr los datos limpios que desea."
   ]
  },
  {
   "cell_type": "markdown",
   "id": "43e1f4d9-5a55-442b-b5b0-68fee3b66e05",
   "metadata": {},
   "source": [
    "2. Klib \n",
    "es un paquete Python de código abierto para importar, limpiar y analizar. Es un paquete integral que se utiliza para comprender fácilmente sus datos y su preprocesamiento. El paquete es bueno para evaluar sus datos mediante visualización intuitiva y API fáciles de usar."
   ]
  },
  {
   "cell_type": "markdown",
   "id": "37c1f9c4-939b-4b26-bf08-fd72cf498eb6",
   "metadata": {},
   "source": [
    "Para la limpieza de datos, Klib confía en la API data_cleaning para limpiar automáticamente el marco de datos."
   ]
  },
  {
   "cell_type": "markdown",
   "id": "b31a75f2-27dc-422f-b305-e23cd8b159b6",
   "metadata": {},
   "source": [
    "Después de la instalación, pasaríamos el conjunto de datos a la API data_cleaning."
   ]
  },
  {
   "cell_type": "code",
   "execution_count": 13,
   "id": "b557df78-a7d9-4526-b27a-326d527784df",
   "metadata": {
    "tags": []
   },
   "outputs": [
    {
     "name": "stdout",
     "output_type": "stream",
     "text": [
      "Shape of cleaned data: (25025, 10) - Remaining NAs: 36881\n",
      "\n",
      "\n",
      "Dropped rows: 0\n",
      "     of which 0 duplicates. (Rows (first 150 shown): [])\n",
      "\n",
      "Dropped columns: 0\n",
      "     of which 0 single valued.     Columns: []\n",
      "Dropped missing values: 0\n",
      "Reduced memory by at least: 0.44 MB (-23.04%)\n",
      "\n"
     ]
    }
   ],
   "source": [
    "import klib\n",
    "df_cleaned = klib.data_cleaning(review)"
   ]
  },
  {
   "cell_type": "markdown",
   "id": "5a3d8b8e-4da1-4e01-bea2-3fa85d74108e",
   "metadata": {},
   "source": [
    "La función anterior produce la información de limpieza de datos realizada en nuestro ejemplo de conjunto de datos. \n",
    "El procedimiento de limpieza de datos de Klib sigue los pasos actuales:\n",
    "\n",
    "Limpieza de nombres de columnas,\n",
    "Eliminando columnas vacías y prácticamente vacías,\n",
    "Elimina columnas cardinales individuales,\n",
    "Elimina filas duplicadas,\n",
    "Reducción de memoria."
   ]
  },
  {
   "cell_type": "markdown",
   "id": "68cba6fa-7dd4-4a64-a6b2-bf86c8fb08b5",
   "metadata": {},
   "source": [
    "3. scrubadub\n",
    "Scrubadub es un paquete Python de código abierto para eliminar información de identificación personal de datos de texto. Scrubadub funciona eliminando los datos personales detectados y reemplazándolos con un identificador de texto como {{EMAIL}} o {{NAME}}."
   ]
  },
  {
   "cell_type": "markdown",
   "id": "03d19623-847a-4b34-a428-7186f565ab3a",
   "metadata": {},
   "source": [
    "Intentemos limpiar nuestro conjunto de datos de muestra con Scrubadub. \n",
    "Primero, necesitamos instalar el paquete."
   ]
  },
  {
   "cell_type": "markdown",
   "id": "476e0adc-c511-45f8-8cdd-8b2ec77db706",
   "metadata": {
    "tags": []
   },
   "source": [
    "Como vimos en el comentario anterior, hay varios datos personales que podríamos eliminar usando Scrubadub, como nombres y direcciones de correo electrónico. \n",
    "Utilicemos una muestra de datos que contenga nombre e información personal de correo electrónico."
   ]
  },
  {
   "cell_type": "code",
   "execution_count": 21,
   "id": "ca281862-bcd0-4464-ad58-58d5d4a627f4",
   "metadata": {
    "tags": []
   },
   "outputs": [
    {
     "data": {
      "text/plain": [
       "\"Hi Annie, we're so sorry the app was not working for you! We'd love to help solve this and have you try out our app. Please try deleting and reinstalling. If you are still coming across and issue, please email us at contact@coffeemeetsbagel.com and let us know if you are getting any specific error message. Thanks!\""
      ]
     },
     "execution_count": 21,
     "metadata": {},
     "output_type": "execute_result"
    }
   ],
   "source": [
    "review['replyContent'].loc[24947]"
   ]
  },
  {
   "cell_type": "markdown",
   "id": "c22e4e39-a66c-4455-80b2-61009509e466",
   "metadata": {},
   "source": [
    "Los datos contienen el nombre y los datos de correo electrónico que queremos eliminar."
   ]
  },
  {
   "cell_type": "code",
   "execution_count": 23,
   "id": "fa9f2877-d438-4569-9751-aa449c0cb2b5",
   "metadata": {
    "tags": []
   },
   "outputs": [],
   "source": [
    "import scrubadub"
   ]
  },
  {
   "cell_type": "code",
   "execution_count": 24,
   "id": "9f085f9b-ff59-4f65-be89-2d7b1863d294",
   "metadata": {
    "tags": []
   },
   "outputs": [
    {
     "name": "stderr",
     "output_type": "stream",
     "text": [
      "C:\\Users\\juanm\\anaconda3\\Lib\\site-packages\\scrubadub\\filth\\base.py:75: DeprecationWarning: Filth.replace_with() will be removed in favour of using the more general PostProcessors\n",
      "  warnings.warn(\n"
     ]
    },
    {
     "data": {
      "text/plain": [
       "\"Hi Annie, we're so sorry the app was not working for you! We'd love to help solve this and have you try out our app. Please try deleting and reinstalling. If you are still coming across and issue, please email us at {{EMAIL}} and let us know if you are getting any specific error message. Thanks!\""
      ]
     },
     "execution_count": 24,
     "metadata": {},
     "output_type": "execute_result"
    }
   ],
   "source": [
    "sample = review['replyContent'].loc[24947]\n",
    "scrubadub.clean(sample)"
   ]
  },
  {
   "cell_type": "markdown",
   "id": "9df19352-1ffe-4ee8-9971-58a0f3a9ba87",
   "metadata": {},
   "source": [
    "Los datos limpios tienen los datos del correo electrónico eliminados y reemplazados por el identificador {{EMAIL}}. Sin embargo, todavía tenemos los datos del nombre identificados. ¿Cómo podría Scrubadub eliminar el nombre entonces?"
   ]
  },
  {
   "cell_type": "markdown",
   "id": "4fc2dafb-0c4b-4ec7-8c95-fadf8afadd53",
   "metadata": {},
   "source": [
    "Para mejorar el identificador de nombre de Scrubadub, necesitamos agregar la mejora de detección de nombres de otros paquetes. Para este ejemplo, agreguemos el detector de TextBlob."
   ]
  },
  {
   "cell_type": "code",
   "execution_count": 25,
   "id": "ab58cdf9-35d4-48e6-b19a-1b6eb193fefc",
   "metadata": {
    "tags": []
   },
   "outputs": [
    {
     "name": "stderr",
     "output_type": "stream",
     "text": [
      "C:\\Users\\juanm\\anaconda3\\Lib\\site-packages\\scrubadub\\filth\\base.py:75: DeprecationWarning: Filth.replace_with() will be removed in favour of using the more general PostProcessors\n",
      "  warnings.warn(\n",
      "C:\\Users\\juanm\\anaconda3\\Lib\\site-packages\\scrubadub\\filth\\base.py:75: DeprecationWarning: Filth.replace_with() will be removed in favour of using the more general PostProcessors\n",
      "  warnings.warn(\n"
     ]
    },
    {
     "data": {
      "text/plain": [
       "\"Hi {{NAME}}, we're so sorry the app was not working for you! We'd love to help solve this and have you try out our app. Please try deleting and reinstalling. If you are still coming across and issue, please email us at {{EMAIL}} and let us know if you are getting any specific error message. Thanks!\""
      ]
     },
     "execution_count": 25,
     "metadata": {},
     "output_type": "execute_result"
    }
   ],
   "source": [
    "scrubber = scrubadub.Scrubber()\n",
    "scrubber.add_detector(scrubadub.detectors.TextBlobNameDetector)\n",
    "scrubber.clean(sample)"
   ]
  },
  {
   "cell_type": "markdown",
   "id": "c6f87327-c912-4840-9897-9880933b3048",
   "metadata": {},
   "source": [
    "Ahora eliminamos el nombre y lo reemplazamos por el identificador {{NAME}}."
   ]
  },
  {
   "cell_type": "code",
   "execution_count": null,
   "id": "7066873f-5cde-4ebd-8598-1e1341450d13",
   "metadata": {},
   "outputs": [],
   "source": [
    "Conclusiones\n",
    "La limpieza de datos es el proceso que lleva más tiempo en el trabajo de la ciecia de datos. \n",
    "para ayudar con los trabajos de limpieza, existen muchos paquetes de Python desarrollados para la limpieza de datos.\n",
    "acontinuacion se mencionan algiunos paquetes de Python para limpieza de datos:\n",
    "Pyjanitor\n",
    "Klib\n",
    "Scrubadub"
   ]
  }
 ],
 "metadata": {
  "kernelspec": {
   "display_name": "Python 3 (ipykernel)",
   "language": "python",
   "name": "python3"
  },
  "language_info": {
   "codemirror_mode": {
    "name": "ipython",
    "version": 3
   },
   "file_extension": ".py",
   "mimetype": "text/x-python",
   "name": "python",
   "nbconvert_exporter": "python",
   "pygments_lexer": "ipython3",
   "version": "3.11.4"
  }
 },
 "nbformat": 4,
 "nbformat_minor": 5
}
